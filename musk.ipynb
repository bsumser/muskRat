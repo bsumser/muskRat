{
 "cells": [
  {
   "cell_type": "code",
   "execution_count": 5,
   "metadata": {},
   "outputs": [
    {
     "name": "stdout",
     "output_type": "stream",
     "text": [
      "1457091338424438789 2021-11-06 14:03:41 -0800 <elonmusk> @TrungTPhan 🤣🤣\n",
      "1457083243933601802 2021-11-06 13:31:31 -0800 <elonmusk> @Rainmaker1973 Tesla Autopilot spends a lot of effort on minimizing jerk\n",
      "1457076751360724995 2021-11-06 13:05:43 -0800 <elonmusk> Roll them 🎲 🎲  https://t.co/F2rXGcz964\n",
      "1457067904583798784 2021-11-06 12:30:34 -0800 <elonmusk> * abide(n)\n",
      "1457067398712942592 2021-11-06 12:28:33 -0800 <elonmusk> Note, I do not take a cash salary or bonus from anywhere. I only have stock, thus the only way for me to pay taxes personally is to sell stock.\n",
      "1457066048944066565 2021-11-06 12:23:11 -0800 <elonmusk> I will abide by the results of this poll, whichever way it goes\n",
      "1457065864935714816 2021-11-06 12:22:27 -0800 <elonmusk> @lifeplusreward @BillyM2k Wrath of the Khans @HardcoreHistory\n",
      "1457064697782489088 2021-11-06 12:17:49 -0800 <elonmusk> Much is made lately of unrealized gains being a means of tax avoidance, so I propose selling 10% of my Tesla stock.  Do you support this?\n",
      "1457060974167474176 2021-11-06 12:03:01 -0800 <elonmusk> @BillyM2k I say this frequently\n",
      "1456796712392081410 2021-11-05 18:32:56 -0800 <elonmusk> @teslaownersSV Haha true! The top alternate name, if we couldn’t acquire the Tesla Motors trademark, was Faraday, which a competitor ended up using.\n",
      "1456796062593781761 2021-11-05 18:30:21 -0800 <elonmusk> @WholeMarsBlog Some late-breaking issues with 10.4. We’re deploying a patch to internal beta vehicles around 3am tomorrow.   If that goes well, we may be able to release 10.4 to external beta vehicles on Sunday. Many good improvements.\n",
      "1456633987808563207 2021-11-05 07:46:20 -0800 <elonmusk> @dogeofficialceo @BillyM2k 🤣\n",
      "1456383656512180230 2021-11-04 15:11:36 -0800 <elonmusk> @RealSkyWatcher @thesheetztweetz 🤣🤣\n",
      "1456373226326700032 2021-11-04 14:30:09 -0800 <elonmusk> @DrEliDavid Seems that way. Publishing their transaction ledger would clarify matters.\n",
      "1456341817407025152 2021-11-04 12:25:21 -0800 <elonmusk> @Jon4Lakers @Tesla We will post finer-grained details of software improvements going forward\n",
      "1456341151867363330 2021-11-04 12:22:42 -0800 <elonmusk> @koolio @Jon4Lakers @Tesla Exactly. Improved memory will cause predictions to converge &amp; reduce jitter.\n",
      "1456325484199956485 2021-11-04 11:20:27 -0800 <elonmusk> @BillyM2k Hype^Hype\n",
      "1456296880464351245 2021-11-04 09:26:47 -0800 <elonmusk> @Teslarati @Writer_01001101 In the future, any Tesla you use will automatically sync to your preferences\n",
      "1456275627221393409 2021-11-04 08:02:20 -0800 <elonmusk> @thesheetztweetz  https://t.co/deqktTvS3U\n",
      "1456268365375283213 2021-11-04 07:33:29 -0800 <elonmusk> @BLKMDL3 @Jon4Lakers @Tesla Probable\n",
      "1456263818271592450 2021-11-04 07:15:25 -0800 <elonmusk> @Jon4Lakers @Tesla Neural net upgrades coming that improve persistence across time &amp; space (better object permanence)\n",
      "1456141388471484416 2021-11-03 23:08:55 -0800 <elonmusk> @alp_cp @GerberKawasaki 🧐\n",
      "1456138892864851968 2021-11-03 22:59:00 -0800 <elonmusk> @teslaownersSV Cool :)\n",
      "1456001087312388102 2021-11-03 13:51:25 -0800 <elonmusk> @GerberKawasaki Not yet. They should just post their transaction ledger. Must be somewhere.\n",
      "1455980193647108097 2021-11-03 12:28:23 -0800 <elonmusk> And Mars  https://t.co/geLbxjAlsw\n",
      "1455969747061940225 2021-11-03 11:46:52 -0800 <elonmusk> @robxlynx Haha true\n",
      "1455962808173174793 2021-11-03 11:19:18 -0800 <elonmusk> @BillyM2k So are tunnels\n",
      "1455800444505178112 2021-11-03 00:34:08 -0800 <elonmusk> Yup, even the moon  https://t.co/o9GrgL4hpe\n",
      "1455686318927790084 2021-11-02 17:00:38 -0800 <elonmusk> @BillyM2k ☺️\n",
      "1455686205920657409 2021-11-02 17:00:11 -0800 <elonmusk> @BillyM2k 👏\n",
      "1455670543848460296 2021-11-02 15:57:57 -0800 <elonmusk> @teslaownersSV !\n",
      "1455634905870786564 2021-11-02 13:36:20 -0800 <elonmusk> @BillyM2k How about my lil doge Floki? He would make a great CEO! His judgment is 🤌.\n",
      "1455626500443709445 2021-11-02 13:02:56 -0800 <elonmusk> @Tesmanian_com What they are doing is just not right\n",
      "1455625961643380741 2021-11-02 13:00:48 -0800 <elonmusk> @Tesmanian_com sigh\n",
      "1455621267017682944 2021-11-02 12:42:08 -0800 <elonmusk> @BillyM2k Me!\n",
      "1455420098798395392 2021-11-01 23:22:46 -0800 <elonmusk> @arstechnica 💯\n",
      "1455351085170823169 2021-11-01 18:48:32 -0800 <elonmusk> @teslaownersSV You’re welcome!  If any of this is based on Hertz, I’d like to emphasize that no contract has been signed yet.  Tesla has far more demand than production, therefore we will only sell cars to Hertz for the same margin as to consumers.  Hertz deal has zero effect on our economics.\n",
      "1455327010302087173 2021-11-01 17:12:52 -0800 <elonmusk> Humankind 煮豆燃豆萁 豆在釜中泣 本是同根生 相煎何太急\n",
      "1455264663810232331 2021-11-01 13:05:08 -0800 <elonmusk> @HardcoreHistory Almost finished Jünger’s Storm of Steel. Intense. Great book.\n",
      "1455246526721179659 2021-11-01 11:53:03 -0800 <elonmusk> @shiraeis @BillyM2k It’s simulations all the way down, until eventually it’s just 1 bit\n",
      "1455244610310131718 2021-11-01 11:45:26 -0800 <elonmusk> @BillyM2k - Everything on the Internet is true! - Externalize responsibility! - If you are able to do this, buy crypto!\n",
      "1455242847381245961 2021-11-01 11:38:26 -0800 <elonmusk> @PPathole @SpaceX Absolutely\n",
      "1455233931880587267 2021-11-01 11:03:00 -0800 <elonmusk> @flcnhvy @adamhoov @Forbes He talks like an NPC with a limited dialogue tree\n",
      "1455211115185647631 2021-11-01 09:32:21 -0800 <elonmusk> @dogeofficialceo @Forbes 🤣\n",
      "1455211039482646541 2021-11-01 09:32:02 -0800 <elonmusk> @adamhoov @Forbes Srsly\n",
      "1455207700397182985 2021-11-01 09:18:46 -0800 <elonmusk> @Forbes He looks good even for a 200-year-old!\n",
      "1455205253897506822 2021-11-01 09:09:03 -0800 <elonmusk> @RenataKonkoly @Forbes Both of those factories failed &amp; shut down long ago. Strange thing to brag about.\n",
      "1455202981700415493 2021-11-01 09:00:01 -0800 <elonmusk> @Forbes Literally can’t tell if this is real or deep fake 🤣🤣🤣\n",
      "1455202601453166600 2021-11-01 08:58:31 -0800 <elonmusk> @MartinKulldorff @joerogan @DrJBhattacharya Should be a term limit for these appointees\n",
      "1455190964516139012 2021-11-01 08:12:16 -0800 <elonmusk> @silverph @ring @TOCNYS @Tesla @TeslaNY 🤣\n",
      "1455186850155479048 2021-11-01 07:55:55 -0800 <elonmusk> Trial program for opening Tesla Superchargers to other EVs has begun\n",
      "1455014433864957961 2021-10-31 20:30:48 -0800 <elonmusk> @SpacePadreIsle Thanks!\n",
      "1454966640534343680 2021-10-31 17:20:53 -0800 <elonmusk> @Tesmanian_com Sanjay deserves a lot of credit for making X/PayPal succeed. Now helping SpaceX serve rural communities in India. Much respect.\n",
      "1454951269504888838 2021-10-31 16:19:48 -0800 <elonmusk> @ashleevance 🤣\n",
      "1454933533814927365 2021-10-31 15:09:20 -0800 <elonmusk> @garycruz @truth_tesla @zshahan3 @garyblack00 @WholeMarsBlog @SawyerMerritt Yup, 2nd UAW president in a row. Unlikely to be the last.\n",
      "1454930023966773249 2021-10-31 14:55:23 -0800 <elonmusk> @WFPChief @DrEliDavid What happened here?  https://t.co/WWfbZURtdh\n",
      "1454929736799490048 2021-10-31 14:54:15 -0800 <elonmusk> @truth_tesla @zshahan3 @garyblack00 @WholeMarsBlog @SawyerMerritt  https://t.co/WAWkkEMvS5\n",
      "1454929058706432002 2021-10-31 14:51:33 -0800 <elonmusk> @truth_tesla @zshahan3 @garyblack00 @WholeMarsBlog @SawyerMerritt  https://t.co/DxY57KUcmf\n",
      "1454926841467256835 2021-10-31 14:42:44 -0800 <elonmusk> @truth_tesla @zshahan3 @garyblack00 @WholeMarsBlog @SawyerMerritt Biden is a UAW 🧦 puppet\n",
      "1454921466500222977 2021-10-31 14:21:23 -0800 <elonmusk> @WFPChief @DrEliDavid Please publish your current &amp; proposed spending in detail so people can see exactly where money goes.   Sunlight is a wonderful thing.\n",
      "1454920409212669954 2021-10-31 14:17:11 -0800 <elonmusk> @SawyerMerritt @Tesla By definition, since I own ~20% of Tesla, ~80% of stock gains necessarily went to investors &amp; employees!\n",
      "1454894791444111360 2021-10-31 12:35:23 -0800 <elonmusk> @ZaidJilani @joerogan @FoxNews Austin should be its city, not a San Francisco copycat\n",
      "1454877647310397442 2021-10-31 11:27:16 -0800 <elonmusk> @BillyM2k ♥️♥️♥️\n",
      "1454876031232380928 2021-10-31 11:20:50 -0800 <elonmusk> Tuition is in Dogecoin &amp; u get a discount if u have a dog\n",
      "1454809318356750337 2021-10-31 06:55:45 -0800 <elonmusk> @DrEliDavid But it must be open source accounting, so the public sees precisely how the money is spent.\n",
      "1454808104256737289 2021-10-31 06:50:55 -0800 <elonmusk> @DrEliDavid If WFP can describe on this Twitter thread exactly how $6B will solve world hunger, I will sell Tesla stock right now and do it.\n",
      "1454610184979075079 2021-10-30 17:44:28 -0800 <elonmusk> @ErcXspace @NASASpaceflight Pretty close\n",
      "1454610032679600129 2021-10-30 17:43:51 -0800 <elonmusk> @hsumacher @Tesla Indeed. The factory was empty at the time, stripped of all equipment that wasn’t worth even its scrap value. But we salvaged what was left &amp; fixed up the old machines so some could work again.\n",
      "1454320303190863872 2021-10-29 22:32:34 -0800 <elonmusk> @PPathole 🤣\n",
      "1454268228490850309 2021-10-29 19:05:39 -0800 <elonmusk> @nichegamer  https://t.co/OtHRWEbDeq\n",
      "1454263742061957121 2021-10-29 18:47:49 -0800 <elonmusk> @Helloimmorgan What gave it away!?\n",
      "1454253531968507904 2021-10-29 18:07:15 -0800 <elonmusk> @InsideEVs Thanks on behalf of Tesla\n",
      "1454131673172480005 2021-10-29 10:03:02 -0800 <elonmusk> @kimpaquette Unfortunately, yes\n",
      "1454130330265341952 2021-10-29 09:57:41 -0800 <elonmusk> @EvaFoxU “A culture of corruption” – his words\n",
      "1454130033132507139 2021-10-29 09:56:30 -0800 <elonmusk> @EvaFoxU  https://t.co/xtiaBEY9Rw\n",
      "1454117500803747843 2021-10-29 09:06:43 -0800 <elonmusk> @KingManninen Nope, T is def first\n",
      "1454115829193261062 2021-10-29 09:00:04 -0800 <elonmusk> @ray4tesla “Tesla Hertz Shorts”\n",
      "1453973981195685890 2021-10-28 23:36:25 -0800 <elonmusk> Universally admired\n",
      "1453973728300134416 2021-10-28 23:35:25 -0800 <elonmusk> @stevenmarkryan Obv\n",
      "1453973348950568978 2021-10-28 23:33:54 -0800 <elonmusk> @nichegamer That would rock\n",
      "[!] No more data! Scraping will stop now.\n",
      "found 0 deleted tweets in this search.\n",
      "0     2021-11-06 14:03:41\n",
      "1     2021-11-06 13:31:31\n",
      "2     2021-11-06 13:05:43\n",
      "3     2021-11-06 12:30:34\n",
      "4     2021-11-06 12:28:33\n",
      "             ...         \n",
      "75    2021-10-29 09:06:43\n",
      "76    2021-10-29 09:00:04\n",
      "77    2021-10-28 23:36:25\n",
      "78    2021-10-28 23:35:25\n",
      "79    2021-10-28 23:33:54\n",
      "Name: date, Length: 80, dtype: object\n"
     ]
    },
    {
     "data": {
      "application/vnd.plotly.v1+json": {
       "config": {
        "plotlyServerURL": "https://plot.ly"
       },
       "data": [
        {
         "close": [
          400.510009765625,
          423.8999938964844,
          420.9800109863281,
          438.0899963378906,
          429.95001220703125,
          421.260009765625,
          410.3599853515625,
          417.1300048828125,
          411.760009765625,
          408.5,
          408.0899963378906,
          441.6099853515625,
          486.6400146484375,
          499.2699890136719,
          489.6099853515625,
          521.8499755859375,
          555.3800048828125,
          574,
          585.760009765625,
          567.5999755859375,
          584.760009765625,
          568.8200073242188,
          593.3800048828125,
          599.0399780273438,
          641.760009765625,
          649.8800048828125,
          604.47998046875,
          627.0700073242188,
          609.989990234375,
          639.8300170898438,
          633.25,
          622.77001953125,
          655.9000244140625,
          695,
          649.8599853515625,
          640.3400268554688,
          645.97998046875,
          661.77001953125,
          663.6900024414062,
          665.989990234375,
          694.780029296875,
          705.6699829101562,
          729.77001953125,
          735.1099853515625,
          755.97998046875,
          816.0399780273438,
          880.02001953125,
          811.1900024414062,
          849.4400024414062,
          854.4099731445312,
          845,
          826.1599731445312,
          844.5499877929688,
          850.4500122070312,
          844.989990234375,
          846.6400146484375,
          880.7999877929688,
          883.0900268554688,
          864.1599731445312,
          835.4299926757812,
          793.530029296875,
          839.8099975585938,
          872.7899780273438,
          854.6900024414062,
          849.989990234375,
          852.22998046875,
          863.4199829101562,
          849.4600219726562,
          804.8200073242188,
          811.6599731445312,
          816.1199951171875,
          796.219970703125,
          798.1500244140625,
          787.3800048828125,
          781.2999877929688,
          714.5,
          698.8400268554688,
          742.02001953125,
          682.219970703125,
          675.5,
          718.4299926757812,
          686.4400024414062,
          653.2000122070312,
          621.4400024414062,
          597.9500122070312,
          563,
          673.5800170898438,
          668.0599975585938,
          699.5999755859375,
          693.72998046875,
          707.9400024414062,
          676.8800048828125,
          701.8099975585938,
          653.1599731445312,
          654.8699951171875,
          670,
          662.1599731445312,
          630.27001953125,
          640.3900146484375,
          618.7100219726562,
          611.2899780273438,
          635.6199951171875,
          667.9299926757812,
          661.75,
          691.0499877929688,
          691.6199951171875,
          670.969970703125,
          683.7999877929688,
          677.02001953125,
          701.97998046875,
          762.3200073242188,
          732.22998046875,
          738.8499755859375,
          739.780029296875,
          714.6300048828125,
          718.989990234375,
          744.1199951171875,
          719.6900024414062,
          729.4000244140625,
          738.2000122070312,
          704.739990234375,
          694.4000244140625,
          677,
          709.4400024414062,
          684.9000244140625,
          673.5999755859375,
          670.9400024414062,
          663.5399780273438,
          672.3699951171875,
          629.0399780273438,
          617.2000122070312,
          589.8900146484375,
          571.6900024414062,
          589.739990234375,
          576.8300170898438,
          577.8699951171875,
          563.4600219726562,
          586.780029296875,
          580.8800048828125,
          606.4400024414062,
          604.6900024414062,
          619.1300048828125,
          630.8499755859375,
          625.219970703125,
          623.9000244140625,
          605.1199951171875,
          572.8400268554688,
          599.0499877929688,
          605.1300048828125,
          603.5900268554688,
          598.780029296875,
          610.1199951171875,
          609.8900146484375,
          617.6900024414062,
          599.3599853515625,
          604.8699951171875,
          616.5999755859375,
          623.3099975585938,
          620.8300170898438,
          623.7100219726562,
          656.5700073242188,
          679.8200073242188,
          671.8699951171875,
          688.719970703125,
          680.760009765625,
          679.7000122070312,
          677.9199829101562,
          678.9000244140625,
          659.5800170898438,
          644.6500244140625,
          652.8099975585938,
          656.9500122070312,
          685.7000122070312,
          668.5399780273438,
          653.3800048828125,
          650.5999755859375,
          644.219970703125,
          646.219970703125,
          660.5,
          655.2899780273438,
          649.260009765625,
          643.3800048828125,
          657.6199951171875,
          644.780029296875,
          646.97998046875,
          677.3499755859375,
          687.2000122070312,
          709.6699829101562,
          709.739990234375,
          710.9199829101562,
          714.6300048828125,
          699.0999755859375,
          713.760009765625,
          709.989990234375,
          707.8200073242188,
          722.25,
          717.1699829101562,
          686.1699829101562,
          665.7100219726562,
          688.989990234375,
          673.469970703125,
          680.260009765625,
          706.2999877929688,
          708.489990234375,
          711.2000122070312,
          701.1599731445312,
          711.9199829101562,
          730.9099731445312,
          735.719970703125,
          734.0900268554688,
          732.3900146484375,
          733.5700073242188,
          752.9199829101562,
          753.8699951171875,
          754.8599853515625,
          736.27001953125,
          743,
          744.489990234375,
          755.8300170898438,
          756.989990234375,
          759.489990234375,
          730.1699829101562,
          739.3800048828125,
          751.9400024414062,
          753.6400146484375,
          774.3900146484375,
          791.3599853515625,
          777.5599975585938,
          781.3099975585938,
          775.47998046875,
          775.219970703125,
          781.530029296875,
          780.5900268554688,
          782.75,
          793.6099853515625,
          785.489990234375,
          791.9400024414062,
          805.719970703125,
          811.0800170898438,
          818.3200073242188,
          843.030029296875,
          870.1099853515625,
          864.27001953125,
          865.7999877929688,
          894,
          909.6799926757812,
          1024.8599853515625,
          1018.4299926757812,
          1037.8599853515625,
          1077.0400390625,
          1114,
          1208.5899658203125,
          1172,
          1213.8599853515625,
          1229.9100341796875,
          1222.0899658203125
         ],
         "high": [
          406.9800109863281,
          427.7699890136719,
          435.3999938964844,
          440,
          436.57000732421875,
          452.5,
          420.0899963378906,
          418.70001220703125,
          423,
          412.5299987792969,
          412.45001220703125,
          462,
          496,
          508.6099853515625,
          502.5,
          526,
          559.989990234375,
          574,
          598.780029296875,
          607.7999877929688,
          597.8499755859375,
          571.5399780273438,
          598.969970703125,
          599.0399780273438,
          648.7899780273438,
          651.280029296875,
          654.3200073242188,
          627.75,
          624,
          642.75,
          646.9000244140625,
          632.5,
          658.8200073242188,
          695,
          668.5,
          649.8800048828125,
          651.5,
          666.0900268554688,
          681.4000244140625,
          669.9000244140625,
          696.5999755859375,
          718.719970703125,
          744.489990234375,
          740.8400268554688,
          774,
          816.989990234375,
          884.489990234375,
          854.4299926757812,
          868,
          860.469970703125,
          863,
          859.9000244140625,
          850,
          859.5,
          855.719970703125,
          848,
          900.4000244140625,
          895.9000244140625,
          891.5,
          848,
          842.4099731445312,
          842,
          880.5,
          878.0800170898438,
          856.5,
          864.77001953125,
          877.77001953125,
          859.7999877929688,
          844.8200073242188,
          829.8800048828125,
          817.3300170898438,
          821,
          799.8400268554688,
          794.6900024414062,
          796.7899780273438,
          768.5,
          713.6099853515625,
          745,
          737.2100219726562,
          706.7000122070312,
          719,
          721.1099853515625,
          700.7000122070312,
          668.4500122070312,
          627.8400268554688,
          620.1300048828125,
          678.0900268554688,
          717.8499755859375,
          702.5,
          694.8800048828125,
          713.1799926757812,
          707.9199829101562,
          703.72998046875,
          689.22998046875,
          657.22998046875,
          699.6199951171875,
          677.7999877929688,
          668.02001953125,
          645.5,
          643.8200073242188,
          616.47998046875,
          637.6599731445312,
          672,
          692.4199829101562,
          708.1599731445312,
          696.5499877929688,
          691.3800048828125,
          689.5499877929688,
          680.969970703125,
          704.7999877929688,
          763,
          780.7899780273438,
          743.6900024414062,
          749.4099731445312,
          725.4000244140625,
          737.25,
          744.8400268554688,
          753.77001953125,
          737.3599853515625,
          749.2999877929688,
          724,
          708.5,
          702.25,
          715.469970703125,
          706,
          683.4500122070312,
          685.2999877929688,
          681.02001953125,
          690,
          665.0499877929688,
          627.0999755859375,
          620.4099731445312,
          606.4600219726562,
          592.8699951171875,
          589.72998046875,
          596.25,
          566.2100219726562,
          588.8499755859375,
          596.6799926757812,
          614.47998046875,
          613.989990234375,
          626.1699829101562,
          631.1300048828125,
          635.5900268554688,
          633.7999877929688,
          623.3599853515625,
          604.5499877929688,
          600.6099853515625,
          610,
          623.0900268554688,
          611.7899780273438,
          616.5900268554688,
          612.5599975585938,
          625.489990234375,
          616.7899780273438,
          608.5,
          621.469970703125,
          628.3499755859375,
          631.3900146484375,
          628.5700073242188,
          657.2000122070312,
          697.6199951171875,
          693.8099975585938,
          694.7000122070312,
          687.510009765625,
          692.8099975585938,
          687.989990234375,
          700,
          684,
          665.7000122070312,
          654.4299926757812,
          658.9099731445312,
          687.239990234375,
          693.280029296875,
          678.6099853515625,
          666.1400146484375,
          656.7000122070312,
          647.2000122070312,
          662.3900146484375,
          664.8599853515625,
          662.1699829101562,
          648.7999877929688,
          668.2000122070312,
          666.5,
          654.969970703125,
          683.6900024414062,
          697.530029296875,
          726.9400024414062,
          722.6500244140625,
          724.9000244140625,
          720.9500122070312,
          716.3300170898438,
          719.030029296875,
          716.5900268554688,
          715.1799926757812,
          722.7999877929688,
          729.9000244140625,
          709.5,
          674.5800170898438,
          695.77001953125,
          686.5499877929688,
          692.1300048828125,
          712.1300048828125,
          715.219970703125,
          716.969970703125,
          715.4000244140625,
          715,
          731,
          740.3900146484375,
          741.989990234375,
          740.969970703125,
          734,
          760.2000122070312,
          764.4500122070312,
          762.0999755859375,
          762.6099853515625,
          744.780029296875,
          754.469970703125,
          756.8599853515625,
          758.9099731445312,
          761.0399780273438,
          742,
          744.739990234375,
          753.6699829101562,
          758.2000122070312,
          774.7999877929688,
          799,
          795.6400146484375,
          793.5,
          789.1300048828125,
          780.780029296875,
          806.969970703125,
          797.3099975585938,
          786.6599731445312,
          805,
          796.3800048828125,
          801.239990234375,
          812.3200073242188,
          815.4099731445312,
          820.25,
          843.2100219726562,
          875.260009765625,
          877.9500122070312,
          869.489990234375,
          900,
          910,
          1045.02001953125,
          1094.93994140625,
          1070.8800048828125,
          1081,
          1115.2099609375,
          1209.75,
          1208.5899658203125,
          1215.3900146484375,
          1243.489990234375,
          1239.8699951171875
         ],
         "hoverinfo": [
          "text"
         ],
         "hovertext": [
          "@TrungTPhan 🤣🤣",
          "@Rainmaker1973 Tesla Autopilot spends a lot of effort on minimizing jerk",
          "Roll them 🎲 🎲  https://t.co/F2rXGcz964",
          "* abide(n)",
          "Note, I do not take a cash salary or bonus from anywhere. I only have stock, thus the only way for me to pay taxes personally is to sell stock.",
          "I will abide by the results of this poll, whichever way it goes",
          "@lifeplusreward @BillyM2k Wrath of the Khans @HardcoreHistory",
          "Much is made lately of unrealized gains being a means of tax avoidance, so I propose selling 10% of my Tesla stock.  Do you support this?",
          "@BillyM2k I say this frequently",
          "@teslaownersSV Haha true! The top alternate name, if we couldn’t acquire the Tesla Motors trademark, was Faraday, which a competitor ended up using.",
          "@WholeMarsBlog Some late-breaking issues with 10.4. We’re deploying a patch to internal beta vehicles around 3am tomorrow.   If that goes well, we may be able to release 10.4 to external beta vehicles on Sunday. Many good improvements.",
          "@dogeofficialceo @BillyM2k 🤣",
          "@RealSkyWatcher @thesheetztweetz 🤣🤣",
          "@DrEliDavid Seems that way. Publishing their transaction ledger would clarify matters.",
          "@Jon4Lakers @Tesla We will post finer-grained details of software improvements going forward",
          "@koolio @Jon4Lakers @Tesla Exactly. Improved memory will cause predictions to converge &amp; reduce jitter.",
          "@BillyM2k Hype^Hype",
          "@Teslarati @Writer_01001101 In the future, any Tesla you use will automatically sync to your preferences",
          "@thesheetztweetz  https://t.co/deqktTvS3U",
          "@BLKMDL3 @Jon4Lakers @Tesla Probable",
          "@Jon4Lakers @Tesla Neural net upgrades coming that improve persistence across time &amp; space (better object permanence)",
          "@alp_cp @GerberKawasaki 🧐",
          "@teslaownersSV Cool :)",
          "@GerberKawasaki Not yet. They should just post their transaction ledger. Must be somewhere.",
          "And Mars  https://t.co/geLbxjAlsw",
          "@robxlynx Haha true",
          "@BillyM2k So are tunnels",
          "Yup, even the moon  https://t.co/o9GrgL4hpe",
          "@BillyM2k ☺️",
          "@BillyM2k 👏",
          "@teslaownersSV !",
          "@BillyM2k How about my lil doge Floki? He would make a great CEO! His judgment is 🤌.",
          "@Tesmanian_com What they are doing is just not right",
          "@Tesmanian_com sigh",
          "@BillyM2k Me!",
          "@arstechnica 💯",
          "@teslaownersSV You’re welcome!  If any of this is based on Hertz, I’d like to emphasize that no contract has been signed yet.  Tesla has far more demand than production, therefore we will only sell cars to Hertz for the same margin as to consumers.  Hertz deal has zero effect on our economics.",
          "Humankind 煮豆燃豆萁 豆在釜中泣 本是同根生 相煎何太急",
          "@HardcoreHistory Almost finished Jünger’s Storm of Steel. Intense. Great book.",
          "@shiraeis @BillyM2k It’s simulations all the way down, until eventually it’s just 1 bit",
          "@BillyM2k - Everything on the Internet is true! - Externalize responsibility! - If you are able to do this, buy crypto!",
          "@PPathole @SpaceX Absolutely",
          "@flcnhvy @adamhoov @Forbes He talks like an NPC with a limited dialogue tree",
          "@dogeofficialceo @Forbes 🤣",
          "@adamhoov @Forbes Srsly",
          "@Forbes He looks good even for a 200-year-old!",
          "@RenataKonkoly @Forbes Both of those factories failed &amp; shut down long ago. Strange thing to brag about.",
          "@Forbes Literally can’t tell if this is real or deep fake 🤣🤣🤣",
          "@MartinKulldorff @joerogan @DrJBhattacharya Should be a term limit for these appointees",
          "@silverph @ring @TOCNYS @Tesla @TeslaNY 🤣",
          "Trial program for opening Tesla Superchargers to other EVs has begun",
          "@SpacePadreIsle Thanks!",
          "@Tesmanian_com Sanjay deserves a lot of credit for making X/PayPal succeed. Now helping SpaceX serve rural communities in India. Much respect.",
          "@ashleevance 🤣",
          "@garycruz @truth_tesla @zshahan3 @garyblack00 @WholeMarsBlog @SawyerMerritt Yup, 2nd UAW president in a row. Unlikely to be the last.",
          "@WFPChief @DrEliDavid What happened here?  https://t.co/WWfbZURtdh",
          "@truth_tesla @zshahan3 @garyblack00 @WholeMarsBlog @SawyerMerritt  https://t.co/WAWkkEMvS5",
          "@truth_tesla @zshahan3 @garyblack00 @WholeMarsBlog @SawyerMerritt  https://t.co/DxY57KUcmf",
          "@truth_tesla @zshahan3 @garyblack00 @WholeMarsBlog @SawyerMerritt Biden is a UAW 🧦 puppet",
          "@WFPChief @DrEliDavid Please publish your current &amp; proposed spending in detail so people can see exactly where money goes.   Sunlight is a wonderful thing.",
          "@SawyerMerritt @Tesla By definition, since I own ~20% of Tesla, ~80% of stock gains necessarily went to investors &amp; employees!",
          "@ZaidJilani @joerogan @FoxNews Austin should be its city, not a San Francisco copycat",
          "@BillyM2k ♥️♥️♥️",
          "Tuition is in Dogecoin &amp; u get a discount if u have a dog",
          "@DrEliDavid But it must be open source accounting, so the public sees precisely how the money is spent.",
          "@DrEliDavid If WFP can describe on this Twitter thread exactly how $6B will solve world hunger, I will sell Tesla stock right now and do it.",
          "@ErcXspace @NASASpaceflight Pretty close",
          "@hsumacher @Tesla Indeed. The factory was empty at the time, stripped of all equipment that wasn’t worth even its scrap value. But we salvaged what was left &amp; fixed up the old machines so some could work again.",
          "@PPathole 🤣",
          "@nichegamer  https://t.co/OtHRWEbDeq",
          "@Helloimmorgan What gave it away!?",
          "@InsideEVs Thanks on behalf of Tesla",
          "@kimpaquette Unfortunately, yes",
          "@EvaFoxU “A culture of corruption” – his words",
          "@EvaFoxU  https://t.co/xtiaBEY9Rw",
          "@KingManninen Nope, T is def first",
          "@ray4tesla “Tesla Hertz Shorts”",
          "Universally admired",
          "@stevenmarkryan Obv",
          "@nichegamer That would rock"
         ],
         "low": [
          392.29998779296875,
          406.69000244140625,
          417.1000061035156,
          424,
          424.2799987792969,
          421,
          396.0299987792969,
          410.5799865722656,
          409.5199890136719,
          401.6600036621094,
          404.0899963378906,
          433.010009765625,
          443.5,
          487.57000732421875,
          489.05999755859375,
          501.7900085449219,
          526.2000122070312,
          545.3699951171875,
          578.4500122070312,
          554.510009765625,
          572.0499877929688,
          541.2100219726562,
          582.4299926757812,
          585.5,
          603.0499877929688,
          618.5,
          588,
          566.3400268554688,
          596.7999877929688,
          610.2000122070312,
          623.7999877929688,
          605,
          619.5,
          628.5399780273438,
          646.0700073242188,
          614.22998046875,
          622.5700073242188,
          641,
          660.7999877929688,
          655,
          668.3599853515625,
          691.1199951171875,
          717.1900024414062,
          719.2000122070312,
          749.0999755859375,
          775.2000122070312,
          838.3900146484375,
          803.6199951171875,
          827.3400268554688,
          832,
          838.75,
          819.0999755859375,
          833,
          837.280029296875,
          841.4199829101562,
          828.6199951171875,
          838.8200073242188,
          871.5999755859375,
          858.6599731445312,
          801,
          780.0999755859375,
          795.5599975585938,
          842.2000122070312,
          853.0599975585938,
          833.4199829101562,
          838.969970703125,
          854.75,
          841.75,
          800.02001953125,
          801.72998046875,
          785.3300170898438,
          792.4400024414062,
          762.010009765625,
          776.27001953125,
          777.3699951171875,
          710.2000122070312,
          619,
          694.1699829101562,
          670.5800170898438,
          659.510009765625,
          685.0499877929688,
          685,
          651.7100219726562,
          600,
          539.489990234375,
          558.7899780273438,
          595.2100219726562,
          655.0599975585938,
          677.1799926757812,
          666.1400146484375,
          684.0399780273438,
          671,
          651.010009765625,
          652,
          624.6199951171875,
          668.75,
          657.510009765625,
          630.1099853515625,
          609.5,
          599.8900146484375,
          596.02001953125,
          591.010009765625,
          641.1099853515625,
          659.4199829101562,
          684.7000122070312,
          681.3699951171875,
          667.8400268554688,
          671.6500244140625,
          669.4299926757812,
          682.0900268554688,
          710.6599731445312,
          728.030029296875,
          721.3099975585938,
          724.5999755859375,
          691.7999877929688,
          710.6900024414062,
          698,
          718.0399780273438,
          715.4600219726562,
          732.6099853515625,
          703.3499755859375,
          693.5999755859375,
          668.5,
          666.1400146484375,
          680.5,
          657.7000122070312,
          667.3400268554688,
          650,
          660.219970703125,
          627.6099853515625,
          595.5999755859375,
          586.77001953125,
          559.6500244140625,
          570.4600219726562,
          561.2000122070312,
          563.3800048828125,
          546.97998046875,
          571.0700073242188,
          580,
          573.6500244140625,
          595.7100219726562,
          601.5,
          616.2100219726562,
          622.3800048828125,
          620.5499877929688,
          599.1400146484375,
          571.219970703125,
          577.2000122070312,
          582.8800048828125,
          595.5,
          597.6300048828125,
          600.5,
          601.52001953125,
          609.1799926757812,
          598.22998046875,
          593.5,
          601.3400268554688,
          611.7999877929688,
          608.8800048828125,
          615.5,
          630.0399780273438,
          667.6099853515625,
          668.7000122070312,
          670.3200073242188,
          675.8900146484375,
          678.1400146484375,
          672.7999877929688,
          673.260009765625,
          651.4000244140625,
          638.3200073242188,
          620.4600219726562,
          644.6900024414062,
          662.1599731445312,
          666.2999877929688,
          652.8400268554688,
          637.8800048828125,
          642.2000122070312,
          621.2899780273438,
          640.5,
          650.2899780273438,
          644.5999755859375,
          637.2999877929688,
          647.1099853515625,
          627.239990234375,
          639.4000244140625,
          648.7999877929688,
          669,
          698.4000244140625,
          701.010009765625,
          708.9299926757812,
          711.4099731445312,
          697.6300048828125,
          705.1300048828125,
          701.8800048828125,
          704.2100219726562,
          699.4000244140625,
          714.3400268554688,
          676.4000244140625,
          648.8400268554688,
          669.3499755859375,
          667.5900268554688,
          673.7000122070312,
          680.75,
          702.6400146484375,
          704,
          697.6199951171875,
          702.0999755859375,
          712.72998046875,
          726.4400024414062,
          731.27001953125,
          730.5399780273438,
          724.2000122070312,
          739.260009765625,
          740.77001953125,
          751.6300048828125,
          734.52001953125,
          708.8499755859375,
          736.4000244140625,
          738.3599853515625,
          747.6099853515625,
          750,
          718.6199951171875,
          730.4400024414062,
          739.1199951171875,
          747.9199829101562,
          744.5599975585938,
          769.3099975585938,
          766.1799926757812,
          770.6799926757812,
          775,
          763.5900268554688,
          776.1199951171875,
          774.2000122070312,
          773.219970703125,
          783.3800048828125,
          780.9099731445312,
          785.5,
          796.5700073242188,
          805.780029296875,
          813.3499755859375,
          822.3499755859375,
          851.469970703125,
          862.510009765625,
          857.3800048828125,
          855.5,
          890.9600219726562,
          944.2000122070312,
          1001.4400024414062,
          1030.780029296875,
          1054.199951171875,
          1073.2099609375,
          1118.6600341796875,
          1146,
          1152.6199951171875,
          1217,
          1208
         ],
         "open": [
          394,
          409.7300109863281,
          430.6199951171875,
          428.29998779296875,
          436.1000061035156,
          439.5,
          420.0899963378906,
          416.45001220703125,
          415.04998779296875,
          410.8500061035156,
          408.92999267578125,
          460.1700134277344,
          448.3500061035156,
          492,
          497.989990234375,
          503.5,
          540.4000244140625,
          550.0599975585938,
          581.1599731445312,
          602.2100219726562,
          597.5900268554688,
          556.4400024414062,
          590.02001953125,
          591.010009765625,
          604.9199829101562,
          625.510009765625,
          653.6900024414062,
          574.3699951171875,
          615.010009765625,
          619,
          643.280029296875,
          628.22998046875,
          628.1900024414062,
          668.9000244140625,
          666.239990234375,
          648,
          632.2000122070312,
          642.989990234375,
          674.510009765625,
          661,
          672,
          699.989990234375,
          719.4600219726562,
          723.6599731445312,
          758.489990234375,
          777.6300048828125,
          856,
          849.4000244140625,
          831,
          852.760009765625,
          843.3900146484375,
          852,
          837.7999877929688,
          858.739990234375,
          855,
          834.3099975585938,
          855,
          891.3800048828125,
          870.3499755859375,
          820,
          830,
          814.2899780273438,
          844.6799926757812,
          877.02001953125,
          855,
          845,
          869.6699829101562,
          855.1199951171875,
          843.6400146484375,
          812.4400024414062,
          801.260009765625,
          818,
          779.0900268554688,
          780.9000244140625,
          795,
          762.6400146484375,
          662.1300048828125,
          711.8499755859375,
          726.1500244140625,
          700,
          690.1099853515625,
          718.280029296875,
          687.989990234375,
          655.7999877929688,
          626.0599975585938,
          600.5499877929688,
          608.1799926757812,
          700.2999877929688,
          699.4000244140625,
          670,
          694.0900268554688,
          703.3499755859375,
          656.8699951171875,
          684.2899780273438,
          646.5999755859375,
          684.5900268554688,
          675.77001953125,
          667.9099731445312,
          613,
          641.8699951171875,
          615.6400146484375,
          601.75,
          646.6199951171875,
          688.3699951171875,
          707.7100219726562,
          690.2999877929688,
          687,
          677.3800048828125,
          677.77001953125,
          685.7000122070312,
          712.7000122070312,
          770.7000122070312,
          743.0999755859375,
          728.6500244140625,
          719.5999755859375,
          717.4199829101562,
          704.77001953125,
          741.5,
          719.7999877929688,
          741,
          717.9600219726562,
          696.4099731445312,
          699.510009765625,
          667.5900268554688,
          703.7999877929688,
          678.9400024414062,
          681.0599975585938,
          680.760009765625,
          665.7999877929688,
          664.9000244140625,
          599.239990234375,
          602.489990234375,
          601.5399780273438,
          583.4099731445312,
          575.5499877929688,
          568,
          552.5499877929688,
          575,
          596.1099853515625,
          581.5999755859375,
          607.3099975585938,
          607.5599975585938,
          620.239990234375,
          628.5,
          627.7999877929688,
          620.1300048828125,
          601.7999877929688,
          579.7100219726562,
          591.8300170898438,
          623.010009765625,
          602.1699829101562,
          603.8800048828125,
          610.22998046875,
          612.22998046875,
          616.6900024414062,
          597.5399780273438,
          601.8900146484375,
          613.3699951171875,
          624.47998046875,
          618.25,
          632,
          674.989990234375,
          689.5800170898438,
          671.6400146484375,
          684.6500244140625,
          679.77001953125,
          683.9199829101562,
          678.97998046875,
          681.7100219726562,
          664.27001953125,
          628.3699951171875,
          653.1799926757812,
          662.2000122070312,
          686.3200073242188,
          670.75,
          658.3900146484375,
          654.6799926757812,
          629.8900146484375,
          651.989990234375,
          659.6099853515625,
          656.4400024414062,
          646.3599853515625,
          650.969970703125,
          663.4000244140625,
          647,
          649.7899780273438,
          671.760009765625,
          700,
          719,
          711,
          716,
          711.9000244140625,
          710.1699829101562,
          713.989990234375,
          712.7100219726562,
          706.3400268554688,
          723.7100219726562,
          705.0700073242188,
          672.6599731445312,
          669.75,
          678.2100219726562,
          682.8499755859375,
          685.4400024414062,
          710.6799926757812,
          707.030029296875,
          708.3099975585938,
          705,
          714.719970703125,
          733,
          734.0800170898438,
          734.5,
          732.25,
          740,
          761.5800170898438,
          753.4099731445312,
          759.5999755859375,
          740.2100219726562,
          742.5700073242188,
          745,
          752.8300170898438,
          757.1500244140625,
          734.5599975585938,
          734.7899780273438,
          743.530029296875,
          755,
          745.8900146484375,
          773.1199951171875,
          787.2000122070312,
          779.7999877929688,
          781,
          778.4000244140625,
          796.5,
          784.7999877929688,
          776.2000122070312,
          785.4600219726562,
          796.2100219726562,
          787.6500244140625,
          800.9299926757812,
          810.469970703125,
          815.489990234375,
          823.739990234375,
          851.7899780273438,
          877.530029296875,
          865.3499755859375,
          856,
          895.5,
          950.530029296875,
          1024.68994140625,
          1039.6600341796875,
          1068.31005859375,
          1081.8599853515625,
          1145,
          1159.3599853515625,
          1177.3299560546875,
          1234.4100341796875,
          1228
         ],
         "type": "candlestick",
         "x": [
          "2020-11-02T00:00:00",
          "2020-11-03T00:00:00",
          "2020-11-04T00:00:00",
          "2020-11-05T00:00:00",
          "2020-11-06T00:00:00",
          "2020-11-09T00:00:00",
          "2020-11-10T00:00:00",
          "2020-11-11T00:00:00",
          "2020-11-12T00:00:00",
          "2020-11-13T00:00:00",
          "2020-11-16T00:00:00",
          "2020-11-17T00:00:00",
          "2020-11-18T00:00:00",
          "2020-11-19T00:00:00",
          "2020-11-20T00:00:00",
          "2020-11-23T00:00:00",
          "2020-11-24T00:00:00",
          "2020-11-25T00:00:00",
          "2020-11-27T00:00:00",
          "2020-11-30T00:00:00",
          "2020-12-01T00:00:00",
          "2020-12-02T00:00:00",
          "2020-12-03T00:00:00",
          "2020-12-04T00:00:00",
          "2020-12-07T00:00:00",
          "2020-12-08T00:00:00",
          "2020-12-09T00:00:00",
          "2020-12-10T00:00:00",
          "2020-12-11T00:00:00",
          "2020-12-14T00:00:00",
          "2020-12-15T00:00:00",
          "2020-12-16T00:00:00",
          "2020-12-17T00:00:00",
          "2020-12-18T00:00:00",
          "2020-12-21T00:00:00",
          "2020-12-22T00:00:00",
          "2020-12-23T00:00:00",
          "2020-12-24T00:00:00",
          "2020-12-28T00:00:00",
          "2020-12-29T00:00:00",
          "2020-12-30T00:00:00",
          "2020-12-31T00:00:00",
          "2021-01-04T00:00:00",
          "2021-01-05T00:00:00",
          "2021-01-06T00:00:00",
          "2021-01-07T00:00:00",
          "2021-01-08T00:00:00",
          "2021-01-11T00:00:00",
          "2021-01-12T00:00:00",
          "2021-01-13T00:00:00",
          "2021-01-14T00:00:00",
          "2021-01-15T00:00:00",
          "2021-01-19T00:00:00",
          "2021-01-20T00:00:00",
          "2021-01-21T00:00:00",
          "2021-01-22T00:00:00",
          "2021-01-25T00:00:00",
          "2021-01-26T00:00:00",
          "2021-01-27T00:00:00",
          "2021-01-28T00:00:00",
          "2021-01-29T00:00:00",
          "2021-02-01T00:00:00",
          "2021-02-02T00:00:00",
          "2021-02-03T00:00:00",
          "2021-02-04T00:00:00",
          "2021-02-05T00:00:00",
          "2021-02-08T00:00:00",
          "2021-02-09T00:00:00",
          "2021-02-10T00:00:00",
          "2021-02-11T00:00:00",
          "2021-02-12T00:00:00",
          "2021-02-16T00:00:00",
          "2021-02-17T00:00:00",
          "2021-02-18T00:00:00",
          "2021-02-19T00:00:00",
          "2021-02-22T00:00:00",
          "2021-02-23T00:00:00",
          "2021-02-24T00:00:00",
          "2021-02-25T00:00:00",
          "2021-02-26T00:00:00",
          "2021-03-01T00:00:00",
          "2021-03-02T00:00:00",
          "2021-03-03T00:00:00",
          "2021-03-04T00:00:00",
          "2021-03-05T00:00:00",
          "2021-03-08T00:00:00",
          "2021-03-09T00:00:00",
          "2021-03-10T00:00:00",
          "2021-03-11T00:00:00",
          "2021-03-12T00:00:00",
          "2021-03-15T00:00:00",
          "2021-03-16T00:00:00",
          "2021-03-17T00:00:00",
          "2021-03-18T00:00:00",
          "2021-03-19T00:00:00",
          "2021-03-22T00:00:00",
          "2021-03-23T00:00:00",
          "2021-03-24T00:00:00",
          "2021-03-25T00:00:00",
          "2021-03-26T00:00:00",
          "2021-03-29T00:00:00",
          "2021-03-30T00:00:00",
          "2021-03-31T00:00:00",
          "2021-04-01T00:00:00",
          "2021-04-05T00:00:00",
          "2021-04-06T00:00:00",
          "2021-04-07T00:00:00",
          "2021-04-08T00:00:00",
          "2021-04-09T00:00:00",
          "2021-04-12T00:00:00",
          "2021-04-13T00:00:00",
          "2021-04-14T00:00:00",
          "2021-04-15T00:00:00",
          "2021-04-16T00:00:00",
          "2021-04-19T00:00:00",
          "2021-04-20T00:00:00",
          "2021-04-21T00:00:00",
          "2021-04-22T00:00:00",
          "2021-04-23T00:00:00",
          "2021-04-26T00:00:00",
          "2021-04-27T00:00:00",
          "2021-04-28T00:00:00",
          "2021-04-29T00:00:00",
          "2021-04-30T00:00:00",
          "2021-05-03T00:00:00",
          "2021-05-04T00:00:00",
          "2021-05-05T00:00:00",
          "2021-05-06T00:00:00",
          "2021-05-07T00:00:00",
          "2021-05-10T00:00:00",
          "2021-05-11T00:00:00",
          "2021-05-12T00:00:00",
          "2021-05-13T00:00:00",
          "2021-05-14T00:00:00",
          "2021-05-17T00:00:00",
          "2021-05-18T00:00:00",
          "2021-05-19T00:00:00",
          "2021-05-20T00:00:00",
          "2021-05-21T00:00:00",
          "2021-05-24T00:00:00",
          "2021-05-25T00:00:00",
          "2021-05-26T00:00:00",
          "2021-05-27T00:00:00",
          "2021-05-28T00:00:00",
          "2021-06-01T00:00:00",
          "2021-06-02T00:00:00",
          "2021-06-03T00:00:00",
          "2021-06-04T00:00:00",
          "2021-06-07T00:00:00",
          "2021-06-08T00:00:00",
          "2021-06-09T00:00:00",
          "2021-06-10T00:00:00",
          "2021-06-11T00:00:00",
          "2021-06-14T00:00:00",
          "2021-06-15T00:00:00",
          "2021-06-16T00:00:00",
          "2021-06-17T00:00:00",
          "2021-06-18T00:00:00",
          "2021-06-21T00:00:00",
          "2021-06-22T00:00:00",
          "2021-06-23T00:00:00",
          "2021-06-24T00:00:00",
          "2021-06-25T00:00:00",
          "2021-06-28T00:00:00",
          "2021-06-29T00:00:00",
          "2021-06-30T00:00:00",
          "2021-07-01T00:00:00",
          "2021-07-02T00:00:00",
          "2021-07-06T00:00:00",
          "2021-07-07T00:00:00",
          "2021-07-08T00:00:00",
          "2021-07-09T00:00:00",
          "2021-07-12T00:00:00",
          "2021-07-13T00:00:00",
          "2021-07-14T00:00:00",
          "2021-07-15T00:00:00",
          "2021-07-16T00:00:00",
          "2021-07-19T00:00:00",
          "2021-07-20T00:00:00",
          "2021-07-21T00:00:00",
          "2021-07-22T00:00:00",
          "2021-07-23T00:00:00",
          "2021-07-26T00:00:00",
          "2021-07-27T00:00:00",
          "2021-07-28T00:00:00",
          "2021-07-29T00:00:00",
          "2021-07-30T00:00:00",
          "2021-08-02T00:00:00",
          "2021-08-03T00:00:00",
          "2021-08-04T00:00:00",
          "2021-08-05T00:00:00",
          "2021-08-06T00:00:00",
          "2021-08-09T00:00:00",
          "2021-08-10T00:00:00",
          "2021-08-11T00:00:00",
          "2021-08-12T00:00:00",
          "2021-08-13T00:00:00",
          "2021-08-16T00:00:00",
          "2021-08-17T00:00:00",
          "2021-08-18T00:00:00",
          "2021-08-19T00:00:00",
          "2021-08-20T00:00:00",
          "2021-08-23T00:00:00",
          "2021-08-24T00:00:00",
          "2021-08-25T00:00:00",
          "2021-08-26T00:00:00",
          "2021-08-27T00:00:00",
          "2021-08-30T00:00:00",
          "2021-08-31T00:00:00",
          "2021-09-01T00:00:00",
          "2021-09-02T00:00:00",
          "2021-09-03T00:00:00",
          "2021-09-07T00:00:00",
          "2021-09-08T00:00:00",
          "2021-09-09T00:00:00",
          "2021-09-10T00:00:00",
          "2021-09-13T00:00:00",
          "2021-09-14T00:00:00",
          "2021-09-15T00:00:00",
          "2021-09-16T00:00:00",
          "2021-09-17T00:00:00",
          "2021-09-20T00:00:00",
          "2021-09-21T00:00:00",
          "2021-09-22T00:00:00",
          "2021-09-23T00:00:00",
          "2021-09-24T00:00:00",
          "2021-09-27T00:00:00",
          "2021-09-28T00:00:00",
          "2021-09-29T00:00:00",
          "2021-09-30T00:00:00",
          "2021-10-01T00:00:00",
          "2021-10-04T00:00:00",
          "2021-10-05T00:00:00",
          "2021-10-06T00:00:00",
          "2021-10-07T00:00:00",
          "2021-10-08T00:00:00",
          "2021-10-11T00:00:00",
          "2021-10-12T00:00:00",
          "2021-10-13T00:00:00",
          "2021-10-14T00:00:00",
          "2021-10-15T00:00:00",
          "2021-10-18T00:00:00",
          "2021-10-19T00:00:00",
          "2021-10-20T00:00:00",
          "2021-10-21T00:00:00",
          "2021-10-22T00:00:00",
          "2021-10-25T00:00:00",
          "2021-10-26T00:00:00",
          "2021-10-27T00:00:00",
          "2021-10-28T00:00:00",
          "2021-10-29T00:00:00",
          "2021-11-01T00:00:00",
          "2021-11-02T00:00:00",
          "2021-11-03T00:00:00",
          "2021-11-04T00:00:00",
          "2021-11-05T00:00:00"
         ]
        }
       ],
       "layout": {
        "template": {
         "data": {
          "bar": [
           {
            "error_x": {
             "color": "#2a3f5f"
            },
            "error_y": {
             "color": "#2a3f5f"
            },
            "marker": {
             "line": {
              "color": "#E5ECF6",
              "width": 0.5
             },
             "pattern": {
              "fillmode": "overlay",
              "size": 10,
              "solidity": 0.2
             }
            },
            "type": "bar"
           }
          ],
          "barpolar": [
           {
            "marker": {
             "line": {
              "color": "#E5ECF6",
              "width": 0.5
             },
             "pattern": {
              "fillmode": "overlay",
              "size": 10,
              "solidity": 0.2
             }
            },
            "type": "barpolar"
           }
          ],
          "carpet": [
           {
            "aaxis": {
             "endlinecolor": "#2a3f5f",
             "gridcolor": "white",
             "linecolor": "white",
             "minorgridcolor": "white",
             "startlinecolor": "#2a3f5f"
            },
            "baxis": {
             "endlinecolor": "#2a3f5f",
             "gridcolor": "white",
             "linecolor": "white",
             "minorgridcolor": "white",
             "startlinecolor": "#2a3f5f"
            },
            "type": "carpet"
           }
          ],
          "choropleth": [
           {
            "colorbar": {
             "outlinewidth": 0,
             "ticks": ""
            },
            "type": "choropleth"
           }
          ],
          "contour": [
           {
            "colorbar": {
             "outlinewidth": 0,
             "ticks": ""
            },
            "colorscale": [
             [
              0,
              "#0d0887"
             ],
             [
              0.1111111111111111,
              "#46039f"
             ],
             [
              0.2222222222222222,
              "#7201a8"
             ],
             [
              0.3333333333333333,
              "#9c179e"
             ],
             [
              0.4444444444444444,
              "#bd3786"
             ],
             [
              0.5555555555555556,
              "#d8576b"
             ],
             [
              0.6666666666666666,
              "#ed7953"
             ],
             [
              0.7777777777777778,
              "#fb9f3a"
             ],
             [
              0.8888888888888888,
              "#fdca26"
             ],
             [
              1,
              "#f0f921"
             ]
            ],
            "type": "contour"
           }
          ],
          "contourcarpet": [
           {
            "colorbar": {
             "outlinewidth": 0,
             "ticks": ""
            },
            "type": "contourcarpet"
           }
          ],
          "heatmap": [
           {
            "colorbar": {
             "outlinewidth": 0,
             "ticks": ""
            },
            "colorscale": [
             [
              0,
              "#0d0887"
             ],
             [
              0.1111111111111111,
              "#46039f"
             ],
             [
              0.2222222222222222,
              "#7201a8"
             ],
             [
              0.3333333333333333,
              "#9c179e"
             ],
             [
              0.4444444444444444,
              "#bd3786"
             ],
             [
              0.5555555555555556,
              "#d8576b"
             ],
             [
              0.6666666666666666,
              "#ed7953"
             ],
             [
              0.7777777777777778,
              "#fb9f3a"
             ],
             [
              0.8888888888888888,
              "#fdca26"
             ],
             [
              1,
              "#f0f921"
             ]
            ],
            "type": "heatmap"
           }
          ],
          "heatmapgl": [
           {
            "colorbar": {
             "outlinewidth": 0,
             "ticks": ""
            },
            "colorscale": [
             [
              0,
              "#0d0887"
             ],
             [
              0.1111111111111111,
              "#46039f"
             ],
             [
              0.2222222222222222,
              "#7201a8"
             ],
             [
              0.3333333333333333,
              "#9c179e"
             ],
             [
              0.4444444444444444,
              "#bd3786"
             ],
             [
              0.5555555555555556,
              "#d8576b"
             ],
             [
              0.6666666666666666,
              "#ed7953"
             ],
             [
              0.7777777777777778,
              "#fb9f3a"
             ],
             [
              0.8888888888888888,
              "#fdca26"
             ],
             [
              1,
              "#f0f921"
             ]
            ],
            "type": "heatmapgl"
           }
          ],
          "histogram": [
           {
            "marker": {
             "pattern": {
              "fillmode": "overlay",
              "size": 10,
              "solidity": 0.2
             }
            },
            "type": "histogram"
           }
          ],
          "histogram2d": [
           {
            "colorbar": {
             "outlinewidth": 0,
             "ticks": ""
            },
            "colorscale": [
             [
              0,
              "#0d0887"
             ],
             [
              0.1111111111111111,
              "#46039f"
             ],
             [
              0.2222222222222222,
              "#7201a8"
             ],
             [
              0.3333333333333333,
              "#9c179e"
             ],
             [
              0.4444444444444444,
              "#bd3786"
             ],
             [
              0.5555555555555556,
              "#d8576b"
             ],
             [
              0.6666666666666666,
              "#ed7953"
             ],
             [
              0.7777777777777778,
              "#fb9f3a"
             ],
             [
              0.8888888888888888,
              "#fdca26"
             ],
             [
              1,
              "#f0f921"
             ]
            ],
            "type": "histogram2d"
           }
          ],
          "histogram2dcontour": [
           {
            "colorbar": {
             "outlinewidth": 0,
             "ticks": ""
            },
            "colorscale": [
             [
              0,
              "#0d0887"
             ],
             [
              0.1111111111111111,
              "#46039f"
             ],
             [
              0.2222222222222222,
              "#7201a8"
             ],
             [
              0.3333333333333333,
              "#9c179e"
             ],
             [
              0.4444444444444444,
              "#bd3786"
             ],
             [
              0.5555555555555556,
              "#d8576b"
             ],
             [
              0.6666666666666666,
              "#ed7953"
             ],
             [
              0.7777777777777778,
              "#fb9f3a"
             ],
             [
              0.8888888888888888,
              "#fdca26"
             ],
             [
              1,
              "#f0f921"
             ]
            ],
            "type": "histogram2dcontour"
           }
          ],
          "mesh3d": [
           {
            "colorbar": {
             "outlinewidth": 0,
             "ticks": ""
            },
            "type": "mesh3d"
           }
          ],
          "parcoords": [
           {
            "line": {
             "colorbar": {
              "outlinewidth": 0,
              "ticks": ""
             }
            },
            "type": "parcoords"
           }
          ],
          "pie": [
           {
            "automargin": true,
            "type": "pie"
           }
          ],
          "scatter": [
           {
            "marker": {
             "colorbar": {
              "outlinewidth": 0,
              "ticks": ""
             }
            },
            "type": "scatter"
           }
          ],
          "scatter3d": [
           {
            "line": {
             "colorbar": {
              "outlinewidth": 0,
              "ticks": ""
             }
            },
            "marker": {
             "colorbar": {
              "outlinewidth": 0,
              "ticks": ""
             }
            },
            "type": "scatter3d"
           }
          ],
          "scattercarpet": [
           {
            "marker": {
             "colorbar": {
              "outlinewidth": 0,
              "ticks": ""
             }
            },
            "type": "scattercarpet"
           }
          ],
          "scattergeo": [
           {
            "marker": {
             "colorbar": {
              "outlinewidth": 0,
              "ticks": ""
             }
            },
            "type": "scattergeo"
           }
          ],
          "scattergl": [
           {
            "marker": {
             "colorbar": {
              "outlinewidth": 0,
              "ticks": ""
             }
            },
            "type": "scattergl"
           }
          ],
          "scattermapbox": [
           {
            "marker": {
             "colorbar": {
              "outlinewidth": 0,
              "ticks": ""
             }
            },
            "type": "scattermapbox"
           }
          ],
          "scatterpolar": [
           {
            "marker": {
             "colorbar": {
              "outlinewidth": 0,
              "ticks": ""
             }
            },
            "type": "scatterpolar"
           }
          ],
          "scatterpolargl": [
           {
            "marker": {
             "colorbar": {
              "outlinewidth": 0,
              "ticks": ""
             }
            },
            "type": "scatterpolargl"
           }
          ],
          "scatterternary": [
           {
            "marker": {
             "colorbar": {
              "outlinewidth": 0,
              "ticks": ""
             }
            },
            "type": "scatterternary"
           }
          ],
          "surface": [
           {
            "colorbar": {
             "outlinewidth": 0,
             "ticks": ""
            },
            "colorscale": [
             [
              0,
              "#0d0887"
             ],
             [
              0.1111111111111111,
              "#46039f"
             ],
             [
              0.2222222222222222,
              "#7201a8"
             ],
             [
              0.3333333333333333,
              "#9c179e"
             ],
             [
              0.4444444444444444,
              "#bd3786"
             ],
             [
              0.5555555555555556,
              "#d8576b"
             ],
             [
              0.6666666666666666,
              "#ed7953"
             ],
             [
              0.7777777777777778,
              "#fb9f3a"
             ],
             [
              0.8888888888888888,
              "#fdca26"
             ],
             [
              1,
              "#f0f921"
             ]
            ],
            "type": "surface"
           }
          ],
          "table": [
           {
            "cells": {
             "fill": {
              "color": "#EBF0F8"
             },
             "line": {
              "color": "white"
             }
            },
            "header": {
             "fill": {
              "color": "#C8D4E3"
             },
             "line": {
              "color": "white"
             }
            },
            "type": "table"
           }
          ]
         },
         "layout": {
          "annotationdefaults": {
           "arrowcolor": "#2a3f5f",
           "arrowhead": 0,
           "arrowwidth": 1
          },
          "autotypenumbers": "strict",
          "coloraxis": {
           "colorbar": {
            "outlinewidth": 0,
            "ticks": ""
           }
          },
          "colorscale": {
           "diverging": [
            [
             0,
             "#8e0152"
            ],
            [
             0.1,
             "#c51b7d"
            ],
            [
             0.2,
             "#de77ae"
            ],
            [
             0.3,
             "#f1b6da"
            ],
            [
             0.4,
             "#fde0ef"
            ],
            [
             0.5,
             "#f7f7f7"
            ],
            [
             0.6,
             "#e6f5d0"
            ],
            [
             0.7,
             "#b8e186"
            ],
            [
             0.8,
             "#7fbc41"
            ],
            [
             0.9,
             "#4d9221"
            ],
            [
             1,
             "#276419"
            ]
           ],
           "sequential": [
            [
             0,
             "#0d0887"
            ],
            [
             0.1111111111111111,
             "#46039f"
            ],
            [
             0.2222222222222222,
             "#7201a8"
            ],
            [
             0.3333333333333333,
             "#9c179e"
            ],
            [
             0.4444444444444444,
             "#bd3786"
            ],
            [
             0.5555555555555556,
             "#d8576b"
            ],
            [
             0.6666666666666666,
             "#ed7953"
            ],
            [
             0.7777777777777778,
             "#fb9f3a"
            ],
            [
             0.8888888888888888,
             "#fdca26"
            ],
            [
             1,
             "#f0f921"
            ]
           ],
           "sequentialminus": [
            [
             0,
             "#0d0887"
            ],
            [
             0.1111111111111111,
             "#46039f"
            ],
            [
             0.2222222222222222,
             "#7201a8"
            ],
            [
             0.3333333333333333,
             "#9c179e"
            ],
            [
             0.4444444444444444,
             "#bd3786"
            ],
            [
             0.5555555555555556,
             "#d8576b"
            ],
            [
             0.6666666666666666,
             "#ed7953"
            ],
            [
             0.7777777777777778,
             "#fb9f3a"
            ],
            [
             0.8888888888888888,
             "#fdca26"
            ],
            [
             1,
             "#f0f921"
            ]
           ]
          },
          "colorway": [
           "#636efa",
           "#EF553B",
           "#00cc96",
           "#ab63fa",
           "#FFA15A",
           "#19d3f3",
           "#FF6692",
           "#B6E880",
           "#FF97FF",
           "#FECB52"
          ],
          "font": {
           "color": "#2a3f5f"
          },
          "geo": {
           "bgcolor": "white",
           "lakecolor": "white",
           "landcolor": "#E5ECF6",
           "showlakes": true,
           "showland": true,
           "subunitcolor": "white"
          },
          "hoverlabel": {
           "align": "left"
          },
          "hovermode": "closest",
          "mapbox": {
           "style": "light"
          },
          "paper_bgcolor": "white",
          "plot_bgcolor": "#E5ECF6",
          "polar": {
           "angularaxis": {
            "gridcolor": "white",
            "linecolor": "white",
            "ticks": ""
           },
           "bgcolor": "#E5ECF6",
           "radialaxis": {
            "gridcolor": "white",
            "linecolor": "white",
            "ticks": ""
           }
          },
          "scene": {
           "xaxis": {
            "backgroundcolor": "#E5ECF6",
            "gridcolor": "white",
            "gridwidth": 2,
            "linecolor": "white",
            "showbackground": true,
            "ticks": "",
            "zerolinecolor": "white"
           },
           "yaxis": {
            "backgroundcolor": "#E5ECF6",
            "gridcolor": "white",
            "gridwidth": 2,
            "linecolor": "white",
            "showbackground": true,
            "ticks": "",
            "zerolinecolor": "white"
           },
           "zaxis": {
            "backgroundcolor": "#E5ECF6",
            "gridcolor": "white",
            "gridwidth": 2,
            "linecolor": "white",
            "showbackground": true,
            "ticks": "",
            "zerolinecolor": "white"
           }
          },
          "shapedefaults": {
           "line": {
            "color": "#2a3f5f"
           }
          },
          "ternary": {
           "aaxis": {
            "gridcolor": "white",
            "linecolor": "white",
            "ticks": ""
           },
           "baxis": {
            "gridcolor": "white",
            "linecolor": "white",
            "ticks": ""
           },
           "bgcolor": "#E5ECF6",
           "caxis": {
            "gridcolor": "white",
            "linecolor": "white",
            "ticks": ""
           }
          },
          "title": {
           "x": 0.05
          },
          "xaxis": {
           "automargin": true,
           "gridcolor": "white",
           "linecolor": "white",
           "ticks": "",
           "title": {
            "standoff": 15
           },
           "zerolinecolor": "white",
           "zerolinewidth": 2
          },
          "yaxis": {
           "automargin": true,
           "gridcolor": "white",
           "linecolor": "white",
           "ticks": "",
           "title": {
            "standoff": 15
           },
           "zerolinecolor": "white",
           "zerolinewidth": 2
          }
         }
        },
        "xaxis": {
         "rangeslider": {
          "visible": false
         }
        }
       }
      },
      "text/html": [
       "<div>                            <div id=\"a401253f-fb3a-4829-9b77-198b029c020b\" class=\"plotly-graph-div\" style=\"height:525px; width:100%;\"></div>            <script type=\"text/javascript\">                require([\"plotly\"], function(Plotly) {                    window.PLOTLYENV=window.PLOTLYENV || {};                                    if (document.getElementById(\"a401253f-fb3a-4829-9b77-198b029c020b\")) {                    Plotly.newPlot(                        \"a401253f-fb3a-4829-9b77-198b029c020b\",                        [{\"close\":[400.510009765625,423.8999938964844,420.9800109863281,438.0899963378906,429.95001220703125,421.260009765625,410.3599853515625,417.1300048828125,411.760009765625,408.5,408.0899963378906,441.6099853515625,486.6400146484375,499.2699890136719,489.6099853515625,521.8499755859375,555.3800048828125,574.0,585.760009765625,567.5999755859375,584.760009765625,568.8200073242188,593.3800048828125,599.0399780273438,641.760009765625,649.8800048828125,604.47998046875,627.0700073242188,609.989990234375,639.8300170898438,633.25,622.77001953125,655.9000244140625,695.0,649.8599853515625,640.3400268554688,645.97998046875,661.77001953125,663.6900024414062,665.989990234375,694.780029296875,705.6699829101562,729.77001953125,735.1099853515625,755.97998046875,816.0399780273438,880.02001953125,811.1900024414062,849.4400024414062,854.4099731445312,845.0,826.1599731445312,844.5499877929688,850.4500122070312,844.989990234375,846.6400146484375,880.7999877929688,883.0900268554688,864.1599731445312,835.4299926757812,793.530029296875,839.8099975585938,872.7899780273438,854.6900024414062,849.989990234375,852.22998046875,863.4199829101562,849.4600219726562,804.8200073242188,811.6599731445312,816.1199951171875,796.219970703125,798.1500244140625,787.3800048828125,781.2999877929688,714.5,698.8400268554688,742.02001953125,682.219970703125,675.5,718.4299926757812,686.4400024414062,653.2000122070312,621.4400024414062,597.9500122070312,563.0,673.5800170898438,668.0599975585938,699.5999755859375,693.72998046875,707.9400024414062,676.8800048828125,701.8099975585938,653.1599731445312,654.8699951171875,670.0,662.1599731445312,630.27001953125,640.3900146484375,618.7100219726562,611.2899780273438,635.6199951171875,667.9299926757812,661.75,691.0499877929688,691.6199951171875,670.969970703125,683.7999877929688,677.02001953125,701.97998046875,762.3200073242188,732.22998046875,738.8499755859375,739.780029296875,714.6300048828125,718.989990234375,744.1199951171875,719.6900024414062,729.4000244140625,738.2000122070312,704.739990234375,694.4000244140625,677.0,709.4400024414062,684.9000244140625,673.5999755859375,670.9400024414062,663.5399780273438,672.3699951171875,629.0399780273438,617.2000122070312,589.8900146484375,571.6900024414062,589.739990234375,576.8300170898438,577.8699951171875,563.4600219726562,586.780029296875,580.8800048828125,606.4400024414062,604.6900024414062,619.1300048828125,630.8499755859375,625.219970703125,623.9000244140625,605.1199951171875,572.8400268554688,599.0499877929688,605.1300048828125,603.5900268554688,598.780029296875,610.1199951171875,609.8900146484375,617.6900024414062,599.3599853515625,604.8699951171875,616.5999755859375,623.3099975585938,620.8300170898438,623.7100219726562,656.5700073242188,679.8200073242188,671.8699951171875,688.719970703125,680.760009765625,679.7000122070312,677.9199829101562,678.9000244140625,659.5800170898438,644.6500244140625,652.8099975585938,656.9500122070312,685.7000122070312,668.5399780273438,653.3800048828125,650.5999755859375,644.219970703125,646.219970703125,660.5,655.2899780273438,649.260009765625,643.3800048828125,657.6199951171875,644.780029296875,646.97998046875,677.3499755859375,687.2000122070312,709.6699829101562,709.739990234375,710.9199829101562,714.6300048828125,699.0999755859375,713.760009765625,709.989990234375,707.8200073242188,722.25,717.1699829101562,686.1699829101562,665.7100219726562,688.989990234375,673.469970703125,680.260009765625,706.2999877929688,708.489990234375,711.2000122070312,701.1599731445312,711.9199829101562,730.9099731445312,735.719970703125,734.0900268554688,732.3900146484375,733.5700073242188,752.9199829101562,753.8699951171875,754.8599853515625,736.27001953125,743.0,744.489990234375,755.8300170898438,756.989990234375,759.489990234375,730.1699829101562,739.3800048828125,751.9400024414062,753.6400146484375,774.3900146484375,791.3599853515625,777.5599975585938,781.3099975585938,775.47998046875,775.219970703125,781.530029296875,780.5900268554688,782.75,793.6099853515625,785.489990234375,791.9400024414062,805.719970703125,811.0800170898438,818.3200073242188,843.030029296875,870.1099853515625,864.27001953125,865.7999877929688,894.0,909.6799926757812,1024.8599853515625,1018.4299926757812,1037.8599853515625,1077.0400390625,1114.0,1208.5899658203125,1172.0,1213.8599853515625,1229.9100341796875,1222.0899658203125],\"high\":[406.9800109863281,427.7699890136719,435.3999938964844,440.0,436.57000732421875,452.5,420.0899963378906,418.70001220703125,423.0,412.5299987792969,412.45001220703125,462.0,496.0,508.6099853515625,502.5,526.0,559.989990234375,574.0,598.780029296875,607.7999877929688,597.8499755859375,571.5399780273438,598.969970703125,599.0399780273438,648.7899780273438,651.280029296875,654.3200073242188,627.75,624.0,642.75,646.9000244140625,632.5,658.8200073242188,695.0,668.5,649.8800048828125,651.5,666.0900268554688,681.4000244140625,669.9000244140625,696.5999755859375,718.719970703125,744.489990234375,740.8400268554688,774.0,816.989990234375,884.489990234375,854.4299926757812,868.0,860.469970703125,863.0,859.9000244140625,850.0,859.5,855.719970703125,848.0,900.4000244140625,895.9000244140625,891.5,848.0,842.4099731445312,842.0,880.5,878.0800170898438,856.5,864.77001953125,877.77001953125,859.7999877929688,844.8200073242188,829.8800048828125,817.3300170898438,821.0,799.8400268554688,794.6900024414062,796.7899780273438,768.5,713.6099853515625,745.0,737.2100219726562,706.7000122070312,719.0,721.1099853515625,700.7000122070312,668.4500122070312,627.8400268554688,620.1300048828125,678.0900268554688,717.8499755859375,702.5,694.8800048828125,713.1799926757812,707.9199829101562,703.72998046875,689.22998046875,657.22998046875,699.6199951171875,677.7999877929688,668.02001953125,645.5,643.8200073242188,616.47998046875,637.6599731445312,672.0,692.4199829101562,708.1599731445312,696.5499877929688,691.3800048828125,689.5499877929688,680.969970703125,704.7999877929688,763.0,780.7899780273438,743.6900024414062,749.4099731445312,725.4000244140625,737.25,744.8400268554688,753.77001953125,737.3599853515625,749.2999877929688,724.0,708.5,702.25,715.469970703125,706.0,683.4500122070312,685.2999877929688,681.02001953125,690.0,665.0499877929688,627.0999755859375,620.4099731445312,606.4600219726562,592.8699951171875,589.72998046875,596.25,566.2100219726562,588.8499755859375,596.6799926757812,614.47998046875,613.989990234375,626.1699829101562,631.1300048828125,635.5900268554688,633.7999877929688,623.3599853515625,604.5499877929688,600.6099853515625,610.0,623.0900268554688,611.7899780273438,616.5900268554688,612.5599975585938,625.489990234375,616.7899780273438,608.5,621.469970703125,628.3499755859375,631.3900146484375,628.5700073242188,657.2000122070312,697.6199951171875,693.8099975585938,694.7000122070312,687.510009765625,692.8099975585938,687.989990234375,700.0,684.0,665.7000122070312,654.4299926757812,658.9099731445312,687.239990234375,693.280029296875,678.6099853515625,666.1400146484375,656.7000122070312,647.2000122070312,662.3900146484375,664.8599853515625,662.1699829101562,648.7999877929688,668.2000122070312,666.5,654.969970703125,683.6900024414062,697.530029296875,726.9400024414062,722.6500244140625,724.9000244140625,720.9500122070312,716.3300170898438,719.030029296875,716.5900268554688,715.1799926757812,722.7999877929688,729.9000244140625,709.5,674.5800170898438,695.77001953125,686.5499877929688,692.1300048828125,712.1300048828125,715.219970703125,716.969970703125,715.4000244140625,715.0,731.0,740.3900146484375,741.989990234375,740.969970703125,734.0,760.2000122070312,764.4500122070312,762.0999755859375,762.6099853515625,744.780029296875,754.469970703125,756.8599853515625,758.9099731445312,761.0399780273438,742.0,744.739990234375,753.6699829101562,758.2000122070312,774.7999877929688,799.0,795.6400146484375,793.5,789.1300048828125,780.780029296875,806.969970703125,797.3099975585938,786.6599731445312,805.0,796.3800048828125,801.239990234375,812.3200073242188,815.4099731445312,820.25,843.2100219726562,875.260009765625,877.9500122070312,869.489990234375,900.0,910.0,1045.02001953125,1094.93994140625,1070.8800048828125,1081.0,1115.2099609375,1209.75,1208.5899658203125,1215.3900146484375,1243.489990234375,1239.8699951171875],\"hoverinfo\":[\"text\"],\"hovertext\":[\"@TrungTPhan \\ud83e\\udd23\\ud83e\\udd23\",\"@Rainmaker1973 Tesla Autopilot spends a lot of effort on minimizing jerk\",\"Roll them \\ud83c\\udfb2 \\ud83c\\udfb2  https://t.co/F2rXGcz964\",\"* abide(n)\",\"Note, I do not take a cash salary or bonus from anywhere. I only have stock, thus the only way for me to pay taxes personally is to sell stock.\",\"I will abide by the results of this poll, whichever way it goes\",\"@lifeplusreward @BillyM2k Wrath of the Khans @HardcoreHistory\",\"Much is made lately of unrealized gains being a means of tax avoidance, so I propose selling 10% of my Tesla stock.  Do you support this?\",\"@BillyM2k I say this frequently\",\"@teslaownersSV Haha true! The top alternate name, if we couldn\\u2019t acquire the Tesla Motors trademark, was Faraday, which a competitor ended up using.\",\"@WholeMarsBlog Some late-breaking issues with 10.4. We\\u2019re deploying a patch to internal beta vehicles around 3am tomorrow.   If that goes well, we may be able to release 10.4 to external beta vehicles on Sunday. Many good improvements.\",\"@dogeofficialceo @BillyM2k \\ud83e\\udd23\",\"@RealSkyWatcher @thesheetztweetz \\ud83e\\udd23\\ud83e\\udd23\",\"@DrEliDavid Seems that way. Publishing their transaction ledger would clarify matters.\",\"@Jon4Lakers @Tesla We will post finer-grained details of software improvements going forward\",\"@koolio @Jon4Lakers @Tesla Exactly. Improved memory will cause predictions to converge &amp; reduce jitter.\",\"@BillyM2k Hype^Hype\",\"@Teslarati @Writer_01001101 In the future, any Tesla you use will automatically sync to your preferences\",\"@thesheetztweetz  https://t.co/deqktTvS3U\",\"@BLKMDL3 @Jon4Lakers @Tesla Probable\",\"@Jon4Lakers @Tesla Neural net upgrades coming that improve persistence across time &amp; space (better object permanence)\",\"@alp_cp @GerberKawasaki \\ud83e\\uddd0\",\"@teslaownersSV Cool :)\",\"@GerberKawasaki Not yet. They should just post their transaction ledger. Must be somewhere.\",\"And Mars  https://t.co/geLbxjAlsw\",\"@robxlynx Haha true\",\"@BillyM2k So are tunnels\",\"Yup, even the moon  https://t.co/o9GrgL4hpe\",\"@BillyM2k \\u263a\\ufe0f\",\"@BillyM2k \\ud83d\\udc4f\",\"@teslaownersSV !\",\"@BillyM2k How about my lil doge Floki? He would make a great CEO! His judgment is \\ud83e\\udd0c.\",\"@Tesmanian_com What they are doing is just not right\",\"@Tesmanian_com sigh\",\"@BillyM2k Me!\",\"@arstechnica \\ud83d\\udcaf\",\"@teslaownersSV You\\u2019re welcome!  If any of this is based on Hertz, I\\u2019d like to emphasize that no contract has been signed yet.  Tesla has far more demand than production, therefore we will only sell cars to Hertz for the same margin as to consumers.  Hertz deal has zero effect on our economics.\",\"Humankind \\u716e\\u8c46\\u71c3\\u8c46\\u8401 \\u8c46\\u5728\\u91dc\\u4e2d\\u6ce3 \\u672c\\u662f\\u540c\\u6839\\u751f \\u76f8\\u714e\\u4f55\\u592a\\u6025\",\"@HardcoreHistory Almost finished J\\u00fcnger\\u2019s Storm of Steel. Intense. Great book.\",\"@shiraeis @BillyM2k It\\u2019s simulations all the way down, until eventually it\\u2019s just 1 bit\",\"@BillyM2k - Everything on the Internet is true! - Externalize responsibility! - If you are able to do this, buy crypto!\",\"@PPathole @SpaceX Absolutely\",\"@flcnhvy @adamhoov @Forbes He talks like an NPC with a limited dialogue tree\",\"@dogeofficialceo @Forbes \\ud83e\\udd23\",\"@adamhoov @Forbes Srsly\",\"@Forbes He looks good even for a 200-year-old!\",\"@RenataKonkoly @Forbes Both of those factories failed &amp; shut down long ago. Strange thing to brag about.\",\"@Forbes Literally can\\u2019t tell if this is real or deep fake \\ud83e\\udd23\\ud83e\\udd23\\ud83e\\udd23\",\"@MartinKulldorff @joerogan @DrJBhattacharya Should be a term limit for these appointees\",\"@silverph @ring @TOCNYS @Tesla @TeslaNY \\ud83e\\udd23\",\"Trial program for opening Tesla Superchargers to other EVs has begun\",\"@SpacePadreIsle Thanks!\",\"@Tesmanian_com Sanjay deserves a lot of credit for making X/PayPal succeed. Now helping SpaceX serve rural communities in India. Much respect.\",\"@ashleevance \\ud83e\\udd23\",\"@garycruz @truth_tesla @zshahan3 @garyblack00 @WholeMarsBlog @SawyerMerritt Yup, 2nd UAW president in a row. Unlikely to be the last.\",\"@WFPChief @DrEliDavid What happened here?  https://t.co/WWfbZURtdh\",\"@truth_tesla @zshahan3 @garyblack00 @WholeMarsBlog @SawyerMerritt  https://t.co/WAWkkEMvS5\",\"@truth_tesla @zshahan3 @garyblack00 @WholeMarsBlog @SawyerMerritt  https://t.co/DxY57KUcmf\",\"@truth_tesla @zshahan3 @garyblack00 @WholeMarsBlog @SawyerMerritt Biden is a UAW \\ud83e\\udde6 puppet\",\"@WFPChief @DrEliDavid Please publish your current &amp; proposed spending in detail so people can see exactly where money goes.   Sunlight is a wonderful thing.\",\"@SawyerMerritt @Tesla By definition, since I own ~20% of Tesla, ~80% of stock gains necessarily went to investors &amp; employees!\",\"@ZaidJilani @joerogan @FoxNews Austin should be its city, not a San Francisco copycat\",\"@BillyM2k \\u2665\\ufe0f\\u2665\\ufe0f\\u2665\\ufe0f\",\"Tuition is in Dogecoin &amp; u get a discount if u have a dog\",\"@DrEliDavid But it must be open source accounting, so the public sees precisely how the money is spent.\",\"@DrEliDavid If WFP can describe on this Twitter thread exactly how $6B will solve world hunger, I will sell Tesla stock right now and do it.\",\"@ErcXspace @NASASpaceflight Pretty close\",\"@hsumacher @Tesla Indeed. The factory was empty at the time, stripped of all equipment that wasn\\u2019t worth even its scrap value. But we salvaged what was left &amp; fixed up the old machines so some could work again.\",\"@PPathole \\ud83e\\udd23\",\"@nichegamer  https://t.co/OtHRWEbDeq\",\"@Helloimmorgan What gave it away!?\",\"@InsideEVs Thanks on behalf of Tesla\",\"@kimpaquette Unfortunately, yes\",\"@EvaFoxU \\u201cA culture of corruption\\u201d \\u2013 his words\",\"@EvaFoxU  https://t.co/xtiaBEY9Rw\",\"@KingManninen Nope, T is def first\",\"@ray4tesla \\u201cTesla Hertz Shorts\\u201d\",\"Universally admired\",\"@stevenmarkryan Obv\",\"@nichegamer That would rock\"],\"low\":[392.29998779296875,406.69000244140625,417.1000061035156,424.0,424.2799987792969,421.0,396.0299987792969,410.5799865722656,409.5199890136719,401.6600036621094,404.0899963378906,433.010009765625,443.5,487.57000732421875,489.05999755859375,501.7900085449219,526.2000122070312,545.3699951171875,578.4500122070312,554.510009765625,572.0499877929688,541.2100219726562,582.4299926757812,585.5,603.0499877929688,618.5,588.0,566.3400268554688,596.7999877929688,610.2000122070312,623.7999877929688,605.0,619.5,628.5399780273438,646.0700073242188,614.22998046875,622.5700073242188,641.0,660.7999877929688,655.0,668.3599853515625,691.1199951171875,717.1900024414062,719.2000122070312,749.0999755859375,775.2000122070312,838.3900146484375,803.6199951171875,827.3400268554688,832.0,838.75,819.0999755859375,833.0,837.280029296875,841.4199829101562,828.6199951171875,838.8200073242188,871.5999755859375,858.6599731445312,801.0,780.0999755859375,795.5599975585938,842.2000122070312,853.0599975585938,833.4199829101562,838.969970703125,854.75,841.75,800.02001953125,801.72998046875,785.3300170898438,792.4400024414062,762.010009765625,776.27001953125,777.3699951171875,710.2000122070312,619.0,694.1699829101562,670.5800170898438,659.510009765625,685.0499877929688,685.0,651.7100219726562,600.0,539.489990234375,558.7899780273438,595.2100219726562,655.0599975585938,677.1799926757812,666.1400146484375,684.0399780273438,671.0,651.010009765625,652.0,624.6199951171875,668.75,657.510009765625,630.1099853515625,609.5,599.8900146484375,596.02001953125,591.010009765625,641.1099853515625,659.4199829101562,684.7000122070312,681.3699951171875,667.8400268554688,671.6500244140625,669.4299926757812,682.0900268554688,710.6599731445312,728.030029296875,721.3099975585938,724.5999755859375,691.7999877929688,710.6900024414062,698.0,718.0399780273438,715.4600219726562,732.6099853515625,703.3499755859375,693.5999755859375,668.5,666.1400146484375,680.5,657.7000122070312,667.3400268554688,650.0,660.219970703125,627.6099853515625,595.5999755859375,586.77001953125,559.6500244140625,570.4600219726562,561.2000122070312,563.3800048828125,546.97998046875,571.0700073242188,580.0,573.6500244140625,595.7100219726562,601.5,616.2100219726562,622.3800048828125,620.5499877929688,599.1400146484375,571.219970703125,577.2000122070312,582.8800048828125,595.5,597.6300048828125,600.5,601.52001953125,609.1799926757812,598.22998046875,593.5,601.3400268554688,611.7999877929688,608.8800048828125,615.5,630.0399780273438,667.6099853515625,668.7000122070312,670.3200073242188,675.8900146484375,678.1400146484375,672.7999877929688,673.260009765625,651.4000244140625,638.3200073242188,620.4600219726562,644.6900024414062,662.1599731445312,666.2999877929688,652.8400268554688,637.8800048828125,642.2000122070312,621.2899780273438,640.5,650.2899780273438,644.5999755859375,637.2999877929688,647.1099853515625,627.239990234375,639.4000244140625,648.7999877929688,669.0,698.4000244140625,701.010009765625,708.9299926757812,711.4099731445312,697.6300048828125,705.1300048828125,701.8800048828125,704.2100219726562,699.4000244140625,714.3400268554688,676.4000244140625,648.8400268554688,669.3499755859375,667.5900268554688,673.7000122070312,680.75,702.6400146484375,704.0,697.6199951171875,702.0999755859375,712.72998046875,726.4400024414062,731.27001953125,730.5399780273438,724.2000122070312,739.260009765625,740.77001953125,751.6300048828125,734.52001953125,708.8499755859375,736.4000244140625,738.3599853515625,747.6099853515625,750.0,718.6199951171875,730.4400024414062,739.1199951171875,747.9199829101562,744.5599975585938,769.3099975585938,766.1799926757812,770.6799926757812,775.0,763.5900268554688,776.1199951171875,774.2000122070312,773.219970703125,783.3800048828125,780.9099731445312,785.5,796.5700073242188,805.780029296875,813.3499755859375,822.3499755859375,851.469970703125,862.510009765625,857.3800048828125,855.5,890.9600219726562,944.2000122070312,1001.4400024414062,1030.780029296875,1054.199951171875,1073.2099609375,1118.6600341796875,1146.0,1152.6199951171875,1217.0,1208.0],\"open\":[394.0,409.7300109863281,430.6199951171875,428.29998779296875,436.1000061035156,439.5,420.0899963378906,416.45001220703125,415.04998779296875,410.8500061035156,408.92999267578125,460.1700134277344,448.3500061035156,492.0,497.989990234375,503.5,540.4000244140625,550.0599975585938,581.1599731445312,602.2100219726562,597.5900268554688,556.4400024414062,590.02001953125,591.010009765625,604.9199829101562,625.510009765625,653.6900024414062,574.3699951171875,615.010009765625,619.0,643.280029296875,628.22998046875,628.1900024414062,668.9000244140625,666.239990234375,648.0,632.2000122070312,642.989990234375,674.510009765625,661.0,672.0,699.989990234375,719.4600219726562,723.6599731445312,758.489990234375,777.6300048828125,856.0,849.4000244140625,831.0,852.760009765625,843.3900146484375,852.0,837.7999877929688,858.739990234375,855.0,834.3099975585938,855.0,891.3800048828125,870.3499755859375,820.0,830.0,814.2899780273438,844.6799926757812,877.02001953125,855.0,845.0,869.6699829101562,855.1199951171875,843.6400146484375,812.4400024414062,801.260009765625,818.0,779.0900268554688,780.9000244140625,795.0,762.6400146484375,662.1300048828125,711.8499755859375,726.1500244140625,700.0,690.1099853515625,718.280029296875,687.989990234375,655.7999877929688,626.0599975585938,600.5499877929688,608.1799926757812,700.2999877929688,699.4000244140625,670.0,694.0900268554688,703.3499755859375,656.8699951171875,684.2899780273438,646.5999755859375,684.5900268554688,675.77001953125,667.9099731445312,613.0,641.8699951171875,615.6400146484375,601.75,646.6199951171875,688.3699951171875,707.7100219726562,690.2999877929688,687.0,677.3800048828125,677.77001953125,685.7000122070312,712.7000122070312,770.7000122070312,743.0999755859375,728.6500244140625,719.5999755859375,717.4199829101562,704.77001953125,741.5,719.7999877929688,741.0,717.9600219726562,696.4099731445312,699.510009765625,667.5900268554688,703.7999877929688,678.9400024414062,681.0599975585938,680.760009765625,665.7999877929688,664.9000244140625,599.239990234375,602.489990234375,601.5399780273438,583.4099731445312,575.5499877929688,568.0,552.5499877929688,575.0,596.1099853515625,581.5999755859375,607.3099975585938,607.5599975585938,620.239990234375,628.5,627.7999877929688,620.1300048828125,601.7999877929688,579.7100219726562,591.8300170898438,623.010009765625,602.1699829101562,603.8800048828125,610.22998046875,612.22998046875,616.6900024414062,597.5399780273438,601.8900146484375,613.3699951171875,624.47998046875,618.25,632.0,674.989990234375,689.5800170898438,671.6400146484375,684.6500244140625,679.77001953125,683.9199829101562,678.97998046875,681.7100219726562,664.27001953125,628.3699951171875,653.1799926757812,662.2000122070312,686.3200073242188,670.75,658.3900146484375,654.6799926757812,629.8900146484375,651.989990234375,659.6099853515625,656.4400024414062,646.3599853515625,650.969970703125,663.4000244140625,647.0,649.7899780273438,671.760009765625,700.0,719.0,711.0,716.0,711.9000244140625,710.1699829101562,713.989990234375,712.7100219726562,706.3400268554688,723.7100219726562,705.0700073242188,672.6599731445312,669.75,678.2100219726562,682.8499755859375,685.4400024414062,710.6799926757812,707.030029296875,708.3099975585938,705.0,714.719970703125,733.0,734.0800170898438,734.5,732.25,740.0,761.5800170898438,753.4099731445312,759.5999755859375,740.2100219726562,742.5700073242188,745.0,752.8300170898438,757.1500244140625,734.5599975585938,734.7899780273438,743.530029296875,755.0,745.8900146484375,773.1199951171875,787.2000122070312,779.7999877929688,781.0,778.4000244140625,796.5,784.7999877929688,776.2000122070312,785.4600219726562,796.2100219726562,787.6500244140625,800.9299926757812,810.469970703125,815.489990234375,823.739990234375,851.7899780273438,877.530029296875,865.3499755859375,856.0,895.5,950.530029296875,1024.68994140625,1039.6600341796875,1068.31005859375,1081.8599853515625,1145.0,1159.3599853515625,1177.3299560546875,1234.4100341796875,1228.0],\"x\":[\"2020-11-02T00:00:00\",\"2020-11-03T00:00:00\",\"2020-11-04T00:00:00\",\"2020-11-05T00:00:00\",\"2020-11-06T00:00:00\",\"2020-11-09T00:00:00\",\"2020-11-10T00:00:00\",\"2020-11-11T00:00:00\",\"2020-11-12T00:00:00\",\"2020-11-13T00:00:00\",\"2020-11-16T00:00:00\",\"2020-11-17T00:00:00\",\"2020-11-18T00:00:00\",\"2020-11-19T00:00:00\",\"2020-11-20T00:00:00\",\"2020-11-23T00:00:00\",\"2020-11-24T00:00:00\",\"2020-11-25T00:00:00\",\"2020-11-27T00:00:00\",\"2020-11-30T00:00:00\",\"2020-12-01T00:00:00\",\"2020-12-02T00:00:00\",\"2020-12-03T00:00:00\",\"2020-12-04T00:00:00\",\"2020-12-07T00:00:00\",\"2020-12-08T00:00:00\",\"2020-12-09T00:00:00\",\"2020-12-10T00:00:00\",\"2020-12-11T00:00:00\",\"2020-12-14T00:00:00\",\"2020-12-15T00:00:00\",\"2020-12-16T00:00:00\",\"2020-12-17T00:00:00\",\"2020-12-18T00:00:00\",\"2020-12-21T00:00:00\",\"2020-12-22T00:00:00\",\"2020-12-23T00:00:00\",\"2020-12-24T00:00:00\",\"2020-12-28T00:00:00\",\"2020-12-29T00:00:00\",\"2020-12-30T00:00:00\",\"2020-12-31T00:00:00\",\"2021-01-04T00:00:00\",\"2021-01-05T00:00:00\",\"2021-01-06T00:00:00\",\"2021-01-07T00:00:00\",\"2021-01-08T00:00:00\",\"2021-01-11T00:00:00\",\"2021-01-12T00:00:00\",\"2021-01-13T00:00:00\",\"2021-01-14T00:00:00\",\"2021-01-15T00:00:00\",\"2021-01-19T00:00:00\",\"2021-01-20T00:00:00\",\"2021-01-21T00:00:00\",\"2021-01-22T00:00:00\",\"2021-01-25T00:00:00\",\"2021-01-26T00:00:00\",\"2021-01-27T00:00:00\",\"2021-01-28T00:00:00\",\"2021-01-29T00:00:00\",\"2021-02-01T00:00:00\",\"2021-02-02T00:00:00\",\"2021-02-03T00:00:00\",\"2021-02-04T00:00:00\",\"2021-02-05T00:00:00\",\"2021-02-08T00:00:00\",\"2021-02-09T00:00:00\",\"2021-02-10T00:00:00\",\"2021-02-11T00:00:00\",\"2021-02-12T00:00:00\",\"2021-02-16T00:00:00\",\"2021-02-17T00:00:00\",\"2021-02-18T00:00:00\",\"2021-02-19T00:00:00\",\"2021-02-22T00:00:00\",\"2021-02-23T00:00:00\",\"2021-02-24T00:00:00\",\"2021-02-25T00:00:00\",\"2021-02-26T00:00:00\",\"2021-03-01T00:00:00\",\"2021-03-02T00:00:00\",\"2021-03-03T00:00:00\",\"2021-03-04T00:00:00\",\"2021-03-05T00:00:00\",\"2021-03-08T00:00:00\",\"2021-03-09T00:00:00\",\"2021-03-10T00:00:00\",\"2021-03-11T00:00:00\",\"2021-03-12T00:00:00\",\"2021-03-15T00:00:00\",\"2021-03-16T00:00:00\",\"2021-03-17T00:00:00\",\"2021-03-18T00:00:00\",\"2021-03-19T00:00:00\",\"2021-03-22T00:00:00\",\"2021-03-23T00:00:00\",\"2021-03-24T00:00:00\",\"2021-03-25T00:00:00\",\"2021-03-26T00:00:00\",\"2021-03-29T00:00:00\",\"2021-03-30T00:00:00\",\"2021-03-31T00:00:00\",\"2021-04-01T00:00:00\",\"2021-04-05T00:00:00\",\"2021-04-06T00:00:00\",\"2021-04-07T00:00:00\",\"2021-04-08T00:00:00\",\"2021-04-09T00:00:00\",\"2021-04-12T00:00:00\",\"2021-04-13T00:00:00\",\"2021-04-14T00:00:00\",\"2021-04-15T00:00:00\",\"2021-04-16T00:00:00\",\"2021-04-19T00:00:00\",\"2021-04-20T00:00:00\",\"2021-04-21T00:00:00\",\"2021-04-22T00:00:00\",\"2021-04-23T00:00:00\",\"2021-04-26T00:00:00\",\"2021-04-27T00:00:00\",\"2021-04-28T00:00:00\",\"2021-04-29T00:00:00\",\"2021-04-30T00:00:00\",\"2021-05-03T00:00:00\",\"2021-05-04T00:00:00\",\"2021-05-05T00:00:00\",\"2021-05-06T00:00:00\",\"2021-05-07T00:00:00\",\"2021-05-10T00:00:00\",\"2021-05-11T00:00:00\",\"2021-05-12T00:00:00\",\"2021-05-13T00:00:00\",\"2021-05-14T00:00:00\",\"2021-05-17T00:00:00\",\"2021-05-18T00:00:00\",\"2021-05-19T00:00:00\",\"2021-05-20T00:00:00\",\"2021-05-21T00:00:00\",\"2021-05-24T00:00:00\",\"2021-05-25T00:00:00\",\"2021-05-26T00:00:00\",\"2021-05-27T00:00:00\",\"2021-05-28T00:00:00\",\"2021-06-01T00:00:00\",\"2021-06-02T00:00:00\",\"2021-06-03T00:00:00\",\"2021-06-04T00:00:00\",\"2021-06-07T00:00:00\",\"2021-06-08T00:00:00\",\"2021-06-09T00:00:00\",\"2021-06-10T00:00:00\",\"2021-06-11T00:00:00\",\"2021-06-14T00:00:00\",\"2021-06-15T00:00:00\",\"2021-06-16T00:00:00\",\"2021-06-17T00:00:00\",\"2021-06-18T00:00:00\",\"2021-06-21T00:00:00\",\"2021-06-22T00:00:00\",\"2021-06-23T00:00:00\",\"2021-06-24T00:00:00\",\"2021-06-25T00:00:00\",\"2021-06-28T00:00:00\",\"2021-06-29T00:00:00\",\"2021-06-30T00:00:00\",\"2021-07-01T00:00:00\",\"2021-07-02T00:00:00\",\"2021-07-06T00:00:00\",\"2021-07-07T00:00:00\",\"2021-07-08T00:00:00\",\"2021-07-09T00:00:00\",\"2021-07-12T00:00:00\",\"2021-07-13T00:00:00\",\"2021-07-14T00:00:00\",\"2021-07-15T00:00:00\",\"2021-07-16T00:00:00\",\"2021-07-19T00:00:00\",\"2021-07-20T00:00:00\",\"2021-07-21T00:00:00\",\"2021-07-22T00:00:00\",\"2021-07-23T00:00:00\",\"2021-07-26T00:00:00\",\"2021-07-27T00:00:00\",\"2021-07-28T00:00:00\",\"2021-07-29T00:00:00\",\"2021-07-30T00:00:00\",\"2021-08-02T00:00:00\",\"2021-08-03T00:00:00\",\"2021-08-04T00:00:00\",\"2021-08-05T00:00:00\",\"2021-08-06T00:00:00\",\"2021-08-09T00:00:00\",\"2021-08-10T00:00:00\",\"2021-08-11T00:00:00\",\"2021-08-12T00:00:00\",\"2021-08-13T00:00:00\",\"2021-08-16T00:00:00\",\"2021-08-17T00:00:00\",\"2021-08-18T00:00:00\",\"2021-08-19T00:00:00\",\"2021-08-20T00:00:00\",\"2021-08-23T00:00:00\",\"2021-08-24T00:00:00\",\"2021-08-25T00:00:00\",\"2021-08-26T00:00:00\",\"2021-08-27T00:00:00\",\"2021-08-30T00:00:00\",\"2021-08-31T00:00:00\",\"2021-09-01T00:00:00\",\"2021-09-02T00:00:00\",\"2021-09-03T00:00:00\",\"2021-09-07T00:00:00\",\"2021-09-08T00:00:00\",\"2021-09-09T00:00:00\",\"2021-09-10T00:00:00\",\"2021-09-13T00:00:00\",\"2021-09-14T00:00:00\",\"2021-09-15T00:00:00\",\"2021-09-16T00:00:00\",\"2021-09-17T00:00:00\",\"2021-09-20T00:00:00\",\"2021-09-21T00:00:00\",\"2021-09-22T00:00:00\",\"2021-09-23T00:00:00\",\"2021-09-24T00:00:00\",\"2021-09-27T00:00:00\",\"2021-09-28T00:00:00\",\"2021-09-29T00:00:00\",\"2021-09-30T00:00:00\",\"2021-10-01T00:00:00\",\"2021-10-04T00:00:00\",\"2021-10-05T00:00:00\",\"2021-10-06T00:00:00\",\"2021-10-07T00:00:00\",\"2021-10-08T00:00:00\",\"2021-10-11T00:00:00\",\"2021-10-12T00:00:00\",\"2021-10-13T00:00:00\",\"2021-10-14T00:00:00\",\"2021-10-15T00:00:00\",\"2021-10-18T00:00:00\",\"2021-10-19T00:00:00\",\"2021-10-20T00:00:00\",\"2021-10-21T00:00:00\",\"2021-10-22T00:00:00\",\"2021-10-25T00:00:00\",\"2021-10-26T00:00:00\",\"2021-10-27T00:00:00\",\"2021-10-28T00:00:00\",\"2021-10-29T00:00:00\",\"2021-11-01T00:00:00\",\"2021-11-02T00:00:00\",\"2021-11-03T00:00:00\",\"2021-11-04T00:00:00\",\"2021-11-05T00:00:00\"],\"type\":\"candlestick\"}],                        {\"template\":{\"data\":{\"bar\":[{\"error_x\":{\"color\":\"#2a3f5f\"},\"error_y\":{\"color\":\"#2a3f5f\"},\"marker\":{\"line\":{\"color\":\"#E5ECF6\",\"width\":0.5},\"pattern\":{\"fillmode\":\"overlay\",\"size\":10,\"solidity\":0.2}},\"type\":\"bar\"}],\"barpolar\":[{\"marker\":{\"line\":{\"color\":\"#E5ECF6\",\"width\":0.5},\"pattern\":{\"fillmode\":\"overlay\",\"size\":10,\"solidity\":0.2}},\"type\":\"barpolar\"}],\"carpet\":[{\"aaxis\":{\"endlinecolor\":\"#2a3f5f\",\"gridcolor\":\"white\",\"linecolor\":\"white\",\"minorgridcolor\":\"white\",\"startlinecolor\":\"#2a3f5f\"},\"baxis\":{\"endlinecolor\":\"#2a3f5f\",\"gridcolor\":\"white\",\"linecolor\":\"white\",\"minorgridcolor\":\"white\",\"startlinecolor\":\"#2a3f5f\"},\"type\":\"carpet\"}],\"choropleth\":[{\"colorbar\":{\"outlinewidth\":0,\"ticks\":\"\"},\"type\":\"choropleth\"}],\"contour\":[{\"colorbar\":{\"outlinewidth\":0,\"ticks\":\"\"},\"colorscale\":[[0.0,\"#0d0887\"],[0.1111111111111111,\"#46039f\"],[0.2222222222222222,\"#7201a8\"],[0.3333333333333333,\"#9c179e\"],[0.4444444444444444,\"#bd3786\"],[0.5555555555555556,\"#d8576b\"],[0.6666666666666666,\"#ed7953\"],[0.7777777777777778,\"#fb9f3a\"],[0.8888888888888888,\"#fdca26\"],[1.0,\"#f0f921\"]],\"type\":\"contour\"}],\"contourcarpet\":[{\"colorbar\":{\"outlinewidth\":0,\"ticks\":\"\"},\"type\":\"contourcarpet\"}],\"heatmap\":[{\"colorbar\":{\"outlinewidth\":0,\"ticks\":\"\"},\"colorscale\":[[0.0,\"#0d0887\"],[0.1111111111111111,\"#46039f\"],[0.2222222222222222,\"#7201a8\"],[0.3333333333333333,\"#9c179e\"],[0.4444444444444444,\"#bd3786\"],[0.5555555555555556,\"#d8576b\"],[0.6666666666666666,\"#ed7953\"],[0.7777777777777778,\"#fb9f3a\"],[0.8888888888888888,\"#fdca26\"],[1.0,\"#f0f921\"]],\"type\":\"heatmap\"}],\"heatmapgl\":[{\"colorbar\":{\"outlinewidth\":0,\"ticks\":\"\"},\"colorscale\":[[0.0,\"#0d0887\"],[0.1111111111111111,\"#46039f\"],[0.2222222222222222,\"#7201a8\"],[0.3333333333333333,\"#9c179e\"],[0.4444444444444444,\"#bd3786\"],[0.5555555555555556,\"#d8576b\"],[0.6666666666666666,\"#ed7953\"],[0.7777777777777778,\"#fb9f3a\"],[0.8888888888888888,\"#fdca26\"],[1.0,\"#f0f921\"]],\"type\":\"heatmapgl\"}],\"histogram\":[{\"marker\":{\"pattern\":{\"fillmode\":\"overlay\",\"size\":10,\"solidity\":0.2}},\"type\":\"histogram\"}],\"histogram2d\":[{\"colorbar\":{\"outlinewidth\":0,\"ticks\":\"\"},\"colorscale\":[[0.0,\"#0d0887\"],[0.1111111111111111,\"#46039f\"],[0.2222222222222222,\"#7201a8\"],[0.3333333333333333,\"#9c179e\"],[0.4444444444444444,\"#bd3786\"],[0.5555555555555556,\"#d8576b\"],[0.6666666666666666,\"#ed7953\"],[0.7777777777777778,\"#fb9f3a\"],[0.8888888888888888,\"#fdca26\"],[1.0,\"#f0f921\"]],\"type\":\"histogram2d\"}],\"histogram2dcontour\":[{\"colorbar\":{\"outlinewidth\":0,\"ticks\":\"\"},\"colorscale\":[[0.0,\"#0d0887\"],[0.1111111111111111,\"#46039f\"],[0.2222222222222222,\"#7201a8\"],[0.3333333333333333,\"#9c179e\"],[0.4444444444444444,\"#bd3786\"],[0.5555555555555556,\"#d8576b\"],[0.6666666666666666,\"#ed7953\"],[0.7777777777777778,\"#fb9f3a\"],[0.8888888888888888,\"#fdca26\"],[1.0,\"#f0f921\"]],\"type\":\"histogram2dcontour\"}],\"mesh3d\":[{\"colorbar\":{\"outlinewidth\":0,\"ticks\":\"\"},\"type\":\"mesh3d\"}],\"parcoords\":[{\"line\":{\"colorbar\":{\"outlinewidth\":0,\"ticks\":\"\"}},\"type\":\"parcoords\"}],\"pie\":[{\"automargin\":true,\"type\":\"pie\"}],\"scatter\":[{\"marker\":{\"colorbar\":{\"outlinewidth\":0,\"ticks\":\"\"}},\"type\":\"scatter\"}],\"scatter3d\":[{\"line\":{\"colorbar\":{\"outlinewidth\":0,\"ticks\":\"\"}},\"marker\":{\"colorbar\":{\"outlinewidth\":0,\"ticks\":\"\"}},\"type\":\"scatter3d\"}],\"scattercarpet\":[{\"marker\":{\"colorbar\":{\"outlinewidth\":0,\"ticks\":\"\"}},\"type\":\"scattercarpet\"}],\"scattergeo\":[{\"marker\":{\"colorbar\":{\"outlinewidth\":0,\"ticks\":\"\"}},\"type\":\"scattergeo\"}],\"scattergl\":[{\"marker\":{\"colorbar\":{\"outlinewidth\":0,\"ticks\":\"\"}},\"type\":\"scattergl\"}],\"scattermapbox\":[{\"marker\":{\"colorbar\":{\"outlinewidth\":0,\"ticks\":\"\"}},\"type\":\"scattermapbox\"}],\"scatterpolar\":[{\"marker\":{\"colorbar\":{\"outlinewidth\":0,\"ticks\":\"\"}},\"type\":\"scatterpolar\"}],\"scatterpolargl\":[{\"marker\":{\"colorbar\":{\"outlinewidth\":0,\"ticks\":\"\"}},\"type\":\"scatterpolargl\"}],\"scatterternary\":[{\"marker\":{\"colorbar\":{\"outlinewidth\":0,\"ticks\":\"\"}},\"type\":\"scatterternary\"}],\"surface\":[{\"colorbar\":{\"outlinewidth\":0,\"ticks\":\"\"},\"colorscale\":[[0.0,\"#0d0887\"],[0.1111111111111111,\"#46039f\"],[0.2222222222222222,\"#7201a8\"],[0.3333333333333333,\"#9c179e\"],[0.4444444444444444,\"#bd3786\"],[0.5555555555555556,\"#d8576b\"],[0.6666666666666666,\"#ed7953\"],[0.7777777777777778,\"#fb9f3a\"],[0.8888888888888888,\"#fdca26\"],[1.0,\"#f0f921\"]],\"type\":\"surface\"}],\"table\":[{\"cells\":{\"fill\":{\"color\":\"#EBF0F8\"},\"line\":{\"color\":\"white\"}},\"header\":{\"fill\":{\"color\":\"#C8D4E3\"},\"line\":{\"color\":\"white\"}},\"type\":\"table\"}]},\"layout\":{\"annotationdefaults\":{\"arrowcolor\":\"#2a3f5f\",\"arrowhead\":0,\"arrowwidth\":1},\"autotypenumbers\":\"strict\",\"coloraxis\":{\"colorbar\":{\"outlinewidth\":0,\"ticks\":\"\"}},\"colorscale\":{\"diverging\":[[0,\"#8e0152\"],[0.1,\"#c51b7d\"],[0.2,\"#de77ae\"],[0.3,\"#f1b6da\"],[0.4,\"#fde0ef\"],[0.5,\"#f7f7f7\"],[0.6,\"#e6f5d0\"],[0.7,\"#b8e186\"],[0.8,\"#7fbc41\"],[0.9,\"#4d9221\"],[1,\"#276419\"]],\"sequential\":[[0.0,\"#0d0887\"],[0.1111111111111111,\"#46039f\"],[0.2222222222222222,\"#7201a8\"],[0.3333333333333333,\"#9c179e\"],[0.4444444444444444,\"#bd3786\"],[0.5555555555555556,\"#d8576b\"],[0.6666666666666666,\"#ed7953\"],[0.7777777777777778,\"#fb9f3a\"],[0.8888888888888888,\"#fdca26\"],[1.0,\"#f0f921\"]],\"sequentialminus\":[[0.0,\"#0d0887\"],[0.1111111111111111,\"#46039f\"],[0.2222222222222222,\"#7201a8\"],[0.3333333333333333,\"#9c179e\"],[0.4444444444444444,\"#bd3786\"],[0.5555555555555556,\"#d8576b\"],[0.6666666666666666,\"#ed7953\"],[0.7777777777777778,\"#fb9f3a\"],[0.8888888888888888,\"#fdca26\"],[1.0,\"#f0f921\"]]},\"colorway\":[\"#636efa\",\"#EF553B\",\"#00cc96\",\"#ab63fa\",\"#FFA15A\",\"#19d3f3\",\"#FF6692\",\"#B6E880\",\"#FF97FF\",\"#FECB52\"],\"font\":{\"color\":\"#2a3f5f\"},\"geo\":{\"bgcolor\":\"white\",\"lakecolor\":\"white\",\"landcolor\":\"#E5ECF6\",\"showlakes\":true,\"showland\":true,\"subunitcolor\":\"white\"},\"hoverlabel\":{\"align\":\"left\"},\"hovermode\":\"closest\",\"mapbox\":{\"style\":\"light\"},\"paper_bgcolor\":\"white\",\"plot_bgcolor\":\"#E5ECF6\",\"polar\":{\"angularaxis\":{\"gridcolor\":\"white\",\"linecolor\":\"white\",\"ticks\":\"\"},\"bgcolor\":\"#E5ECF6\",\"radialaxis\":{\"gridcolor\":\"white\",\"linecolor\":\"white\",\"ticks\":\"\"}},\"scene\":{\"xaxis\":{\"backgroundcolor\":\"#E5ECF6\",\"gridcolor\":\"white\",\"gridwidth\":2,\"linecolor\":\"white\",\"showbackground\":true,\"ticks\":\"\",\"zerolinecolor\":\"white\"},\"yaxis\":{\"backgroundcolor\":\"#E5ECF6\",\"gridcolor\":\"white\",\"gridwidth\":2,\"linecolor\":\"white\",\"showbackground\":true,\"ticks\":\"\",\"zerolinecolor\":\"white\"},\"zaxis\":{\"backgroundcolor\":\"#E5ECF6\",\"gridcolor\":\"white\",\"gridwidth\":2,\"linecolor\":\"white\",\"showbackground\":true,\"ticks\":\"\",\"zerolinecolor\":\"white\"}},\"shapedefaults\":{\"line\":{\"color\":\"#2a3f5f\"}},\"ternary\":{\"aaxis\":{\"gridcolor\":\"white\",\"linecolor\":\"white\",\"ticks\":\"\"},\"baxis\":{\"gridcolor\":\"white\",\"linecolor\":\"white\",\"ticks\":\"\"},\"bgcolor\":\"#E5ECF6\",\"caxis\":{\"gridcolor\":\"white\",\"linecolor\":\"white\",\"ticks\":\"\"}},\"title\":{\"x\":0.05},\"xaxis\":{\"automargin\":true,\"gridcolor\":\"white\",\"linecolor\":\"white\",\"ticks\":\"\",\"title\":{\"standoff\":15},\"zerolinecolor\":\"white\",\"zerolinewidth\":2},\"yaxis\":{\"automargin\":true,\"gridcolor\":\"white\",\"linecolor\":\"white\",\"ticks\":\"\",\"title\":{\"standoff\":15},\"zerolinecolor\":\"white\",\"zerolinewidth\":2}}},\"xaxis\":{\"rangeslider\":{\"visible\":false}}},                        {\"responsive\": true}                    ).then(function(){\n",
       "                            \n",
       "var gd = document.getElementById('a401253f-fb3a-4829-9b77-198b029c020b');\n",
       "var x = new MutationObserver(function (mutations, observer) {{\n",
       "        var display = window.getComputedStyle(gd).display;\n",
       "        if (!display || display === 'none') {{\n",
       "            console.log([gd, 'removed!']);\n",
       "            Plotly.purge(gd);\n",
       "            observer.disconnect();\n",
       "        }}\n",
       "}});\n",
       "\n",
       "// Listen for the removal of the full notebook cells\n",
       "var notebookContainer = gd.closest('#notebook-container');\n",
       "if (notebookContainer) {{\n",
       "    x.observe(notebookContainer, {childList: true});\n",
       "}}\n",
       "\n",
       "// Listen for the clearing of the current output cell\n",
       "var outputEl = gd.closest('.output');\n",
       "if (outputEl) {{\n",
       "    x.observe(outputEl, {childList: true});\n",
       "}}\n",
       "\n",
       "                        })                };                });            </script>        </div>"
      ]
     },
     "metadata": {},
     "output_type": "display_data"
    },
    {
     "name": "stdout",
     "output_type": "stream",
     "text": [
      "plot generated\n"
     ]
    }
   ],
   "source": [
    "import numpy as np\n",
    "import pandas\n",
    "import pprint\n",
    "import yfinance as yf\n",
    "from matplotlib import pyplot as plt\n",
    "import plotly.graph_objects as go\n",
    "import nest_asyncio\n",
    "import twint\n",
    "\n",
    "def ratioCalculator(dataframe):\n",
    "    ratio = []\n",
    "    # given a twint dataframe, calculate likes/() and append list to dataframe\n",
    "    dataframe.join(ratio)\n",
    "\n",
    "def dateList(start, end):\n",
    "    #set the date for twint and yfinance\n",
    "    date = [start, end]\n",
    "    return date\n",
    "\n",
    "def twitterStock(user, ticker, date):\n",
    "    #given a user/date/ticker generate plot\n",
    "\n",
    "    c = twint.Config()\n",
    "    c.Username = user\n",
    "    #c.Search = \"tesla\"\n",
    "    #c.Filter_retweet = True\n",
    "    #c.Min_likes = 100000\n",
    "    c.Since = date[0]\n",
    "    c.Until = date[1]\n",
    "    c.Pandas = True\n",
    "\n",
    "    # Run\n",
    "    twint.run.Search(c)\n",
    "    Tweets_df = twint.storage.panda.Tweets_df\n",
    "    print(Tweets_df['date'])\n",
    "\n",
    "    teslaData = yf.Ticker(ticker)\n",
    "    old = teslaData.history(start=date[0], end=date[1])\n",
    "    old.head()\n",
    "\n",
    "    old = old.reset_index()\n",
    "\n",
    "    for i in ['Open', 'High', 'Close', 'Low']:\n",
    "        old[i] = old[i].astype('float64')\n",
    "\n",
    "    fig = go.Figure(data=[go.Candlestick(x=old['Date'],\n",
    "        open=old['Open'],\n",
    "        high=old['High'],\n",
    "        low=old['Low'],\n",
    "        close=old['Close'],\n",
    "        hovertext=Tweets_df['tweet'],\n",
    "        hoverinfo=[\"text\"])])\n",
    "    fig.update_layout(xaxis_rangeslider_visible=False)\n",
    "    fig.show()\n",
    "    print(\"plot generated\")\n",
    "\n",
    "def main():\n",
    "    # twint fix via \"https://github.com/twintproject/twint/issues/1242\"\n",
    "    nest_asyncio.apply()\n",
    "\n",
    "    #c = twint.Config()\n",
    "    #c.Username = \"elonmusk\"\n",
    "    ##c.Search = \"tesla\"\n",
    "    ##c.Filter_retweet = True\n",
    "    ##c.Min_likes = 100000\n",
    "    #c.Since = \"2020-4-1\"\n",
    "    #c.Until = \"2020-5-31\"\n",
    "    #c.Pandas = True\n",
    "\n",
    "    ## Run\n",
    "    #twint.run.Search(c)\n",
    "    #Tweets_df = twint.storage.panda.Tweets_df\n",
    "    #print(Tweets_df['date'])\n",
    "\n",
    "    #teslaData = yf.Ticker('TSLA')\n",
    "    #old = teslaData.history(start=\"2020-4-1\", end=\"2020-5-31\")\n",
    "    #old.head()\n",
    "\n",
    "    #old = old.reset_index()\n",
    "\n",
    "    #for i in ['Open', 'High', 'Close', 'Low']:\n",
    "    #    old[i] = old[i].astype('float64')\n",
    "\n",
    "    #fig = go.Figure(data=[go.Candlestick(x=old['Date'],\n",
    "    #    open=old['Open'],\n",
    "    #    high=old['High'],\n",
    "    #    low=old['Low'],\n",
    "    #    close=old['Close'],\n",
    "    #    hovertext=Tweets_df['tweet'],\n",
    "    #    hoverinfo=[\"text\"])])\n",
    "    #fig.update_layout(xaxis_rangeslider_visible=False)\n",
    "    #fig.show()\n",
    "\n",
    "    user = \"elonmusk\"\n",
    "    ticker = 'TSLA'\n",
    "    date = [\"2020-11-1\",\"2021-11-7\"]\n",
    "    twitterStock(user, ticker, date)\n",
    "\n",
    "if __name__ == \"__main__\":\n",
    "    main()"
   ]
  }
 ],
 "metadata": {
  "interpreter": {
   "hash": "31f2aee4e71d21fbe5cf8b01ff0e069b9275f58929596ceb00d14d90e3e16cd6"
  },
  "kernelspec": {
   "display_name": "Python 3.8.10 64-bit",
   "language": "python",
   "name": "python3"
  },
  "language_info": {
   "codemirror_mode": {
    "name": "ipython",
    "version": 3
   },
   "file_extension": ".py",
   "mimetype": "text/x-python",
   "name": "python",
   "nbconvert_exporter": "python",
   "pygments_lexer": "ipython3",
   "version": "3.8.10"
  },
  "orig_nbformat": 4
 },
 "nbformat": 4,
 "nbformat_minor": 2
}
